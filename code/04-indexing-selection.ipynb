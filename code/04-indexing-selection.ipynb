{
  "cells": [
    {
      "cell_type": "markdown",
      "id": "1f7a74ec",
      "metadata": {},
      "source": [
        "<div style=\"display: flex; justify-content: space-between; align-items: center;\">\n",
        "    <div style=\"text-align: left; flex: 4\">\n",
        "        <strong>Author:</strong> Amirhossein Heydari — \n",
        "        📧 <a href=\"mailto:amirhosseinheydari78@gmail.com\">amirhosseinheydari78@gmail.com</a> — \n",
        "        🐙 <a href=\"https://github.com/mr-pylin/pandas-workshop\" target=\"_blank\" rel=\"noopener\">github.com/mr-pylin</a>\n",
        "    </div>\n",
        "    <div style=\"text-align: right; flex: 1;\">\n",
        "        <a href=\"https://pandas.pydata.org/\" target=\"_blank\" rel=\"noopener noreferrer\">\n",
        "            <img src=\"../assets/images/pandas/logo/pandas_white.svg\" \n",
        "                 alt=\"Pandas Logo\"\n",
        "                 style=\"max-height: 48px; width: auto; background-color: #1f1f1f; border-radius: 8px;\">\n",
        "        </a>\n",
        "    </div>\n",
        "</div>\n",
        "<hr>\n"
      ]
    },
    {
      "cell_type": "markdown",
      "id": "6d83becf",
      "metadata": {},
      "source": [
        "**Table of contents**<a id='toc0_'></a>    \n",
        "- [Dependencies](#toc1_)    \n",
        "- [Create DataFrames](#toc2_)    \n",
        "- [Indexing, Selection, and Filtering](#toc3_)    \n",
        "  - [Label-based Indexing](#toc3_1_)    \n",
        "    - [Select rows by label](#toc3_1_1_)    \n",
        "    - [Select rows & specific columns](#toc3_1_2_)    \n",
        "    - [Assigning values with `.loc`](#toc3_1_3_)    \n",
        "  - [Integer-based Indexing](#toc3_2_)    \n",
        "    - [Select rows by position](#toc3_2_1_)    \n",
        "    - [Select rows & specific columns](#toc3_2_2_)    \n",
        "    - [Using negative indices](#toc3_2_3_)    \n",
        "    - [Assigning with `.iloc`](#toc3_2_4_)    \n",
        "  - [Direct Indexing](#toc3_3_)    \n",
        "    - [Single column](#toc3_3_1_)    \n",
        "    - [Multiple columns](#toc3_3_2_)    \n",
        "    - [Row slicing](#toc3_3_3_)    \n",
        "  - [Boolean Indexing and Conditions](#toc3_4_)    \n",
        "    - [Basics of Boolean Indexing](#toc3_4_1_)    \n",
        "    - [Combining Multiple Conditions](#toc3_4_2_)    \n",
        "    - [Filtering with `.isin()`](#toc3_4_3_)    \n",
        "    - [Filtering with `.between()`](#toc3_4_4_)    \n",
        "    - [Using `.query()` as alternative](#toc3_4_5_)    \n",
        "  - [Setting and Resetting Index](#toc3_5_)    \n",
        "    - [Setting an Index](#toc3_5_1_)    \n",
        "    - [Resetting an Index](#toc3_5_2_)    \n",
        "  - [Chained Indexing vs. Single Indexing](#toc3_6_)    \n",
        "  - [MultiIndex (Hierarchical Indexing)](#toc3_7_)    \n",
        "    - [Creating a MultiIndex](#toc3_7_1_)    \n",
        "    - [Selecting with MultiIndex](#toc3_7_2_)    \n",
        "    - [Swapping and Sorting Levels](#toc3_7_3_)    \n",
        "    - [Resetting MultiIndex](#toc3_7_4_)    \n",
        "  - [Renaming & Naming Index/Columns](#toc3_8_)    \n",
        "    - [Naming Indexes](#toc3_8_1_)    \n",
        "    - [Renaming Indexes](#toc3_8_2_)    \n",
        "    - [Renaming Columns](#toc3_8_3_)    \n",
        "\n",
        "<!-- vscode-jupyter-toc-config\n",
        "\tnumbering=false\n",
        "\tanchor=true\n",
        "\tflat=false\n",
        "\tminLevel=1\n",
        "\tmaxLevel=6\n",
        "\t/vscode-jupyter-toc-config -->\n",
        "<!-- THIS CELL WILL BE REPLACED ON TOC UPDATE. DO NOT WRITE YOUR TEXT IN THIS CELL -->"
      ]
    },
    {
      "cell_type": "markdown",
      "id": "e73df675",
      "metadata": {},
      "source": [
        "# <a id='toc1_'></a>[Dependencies](#toc0_)\n"
      ]
    },
    {
      "cell_type": "code",
      "execution_count": null,
      "id": "b66a1158",
      "metadata": {},
      "outputs": [],
      "source": [
        "import pandas as pd"
      ]
    },
    {
      "cell_type": "code",
      "execution_count": null,
      "id": "84315f6d",
      "metadata": {},
      "outputs": [],
      "source": [
        "# disable wrapping entirely\n",
        "pd.set_option(\"display.expand_frame_repr\", False)"
      ]
    },
    {
      "cell_type": "markdown",
      "id": "adb8f513",
      "metadata": {},
      "source": [
        "# <a id='toc2_'></a>[Create DataFrames](#toc0_)\n"
      ]
    },
    {
      "cell_type": "code",
      "execution_count": null,
      "id": "e52b36d2",
      "metadata": {},
      "outputs": [],
      "source": [
        "df1 = pd.DataFrame(\n",
        "    {\n",
        "        \"Name\": [\"Alice\", \"Bob\", \"Charlie\", \"David\"],\n",
        "        \"Age\": [24, 27, 22, 32],\n",
        "        \"City\": [\"NY\", \"LA\", \"Paris\", \"London\"],\n",
        "    },\n",
        "    index=[\"a\", \"b\", \"c\", \"d\"],\n",
        ")\n",
        "\n",
        "# log\n",
        "df1.head(5)"
      ]
    },
    {
      "cell_type": "code",
      "execution_count": null,
      "id": "811a1a3f",
      "metadata": {},
      "outputs": [],
      "source": [
        "MOVIES_PATH = (\n",
        "    r\"https://raw.githubusercontent.com/mr-pylin/datasets/refs/heads/main/data/tabular-data/movies/csv/dataset.csv\"\n",
        ")\n",
        "df2 = pd.read_csv(MOVIES_PATH, encoding=\"UTF-8\")\n",
        "\n",
        "# log\n",
        "df2.head(5)"
      ]
    },
    {
      "cell_type": "markdown",
      "id": "cff81cc2",
      "metadata": {},
      "source": [
        "# <a id='toc3_'></a>[Indexing, Selection, and Filtering](#toc0_)\n",
        "\n",
        "- One of the **most powerful features** in Pandas is its **flexible indexing system**.\n",
        "- Indexing controls **how you access, select, and modify data** inside a `DataFrame` or `Series`.\n",
        "- Pandas provides multiple approaches:\n",
        "  - **Label-based indexing** (`.loc`)\n",
        "  - **Integer-based indexing** (`.iloc`)\n",
        "  - **Boolean/conditional selection**\n",
        "  - **Fancy indexing with lists, slices, and masks**\n",
        "  - **Resetting or changing the index**\n",
        "\n",
        "<div style=\"text-align: center; padding-top: 10px;\">\n",
        "    <img src=\"../assets/images/pandas/tutorials/03/subset_rows.svg\" alt=\"Select Specific Rows\" style=\"min-width: 256px; max-height: 40%; width: auto; background-color: #DBDBDB; border-radius: 16px;\">\n",
        "    <p><em>Figure 1: Select Specific Rows from a <code>DataFrame</code></em> (<a href=\"https://pandas.pydata.org/docs/getting_started/intro_tutorials/\" target=\"_blank\">source</a>)</p>\n",
        "</div>\n",
        "\n",
        "<div style=\"text-align: center; padding-top: 10px;\">\n",
        "    <img src=\"../assets/images/pandas/tutorials/03/subset_columns.svg\" alt=\"Select Specific Columns\" style=\"min-width: 256px; max-height: 40%; width: auto; background-color: #DBDBDB; border-radius: 16px;\">\n",
        "    <p><em>Figure 2: Select Specific Columns from a <code>DataFrame</code></em> (<a href=\"https://pandas.pydata.org/docs/getting_started/intro_tutorials/\" target=\"_blank\">source</a>)</p>\n",
        "</div>\n",
        "\n",
        "<div style=\"text-align: center; padding-top: 10px;\">\n",
        "    <img src=\"../assets/images/pandas/tutorials/03/subset_columns_rows.svg\" alt=\"Select Rows and Columns\" style=\"min-width: 256px; max-height: 40%; width: auto; background-color: #DBDBDB; border-radius: 16px;\">\n",
        "    <p><em>Figure 3: Select Specific Rows and Columns from a <code>DataFrame</code></em> (<a href=\"https://pandas.pydata.org/docs/getting_started/intro_tutorials/\" target=\"_blank\">source</a>)</p>\n",
        "</div>\n",
        "\n",
        "📝 **Docs**:\n",
        "\n",
        "- Indexing and selecting data: [pandas.pydata.org/docs/user_guide/indexing.html](https://pandas.pydata.org/docs/user_guide/indexing.html)\n",
        "- Select a subset: [pandas.pydata.org/docs/getting_started/intro_tutorials/03_subset_data.html](https://pandas.pydata.org/docs/getting_started/intro_tutorials/03_subset_data.html)\n"
      ]
    },
    {
      "cell_type": "markdown",
      "id": "1110db3c",
      "metadata": {},
      "source": [
        "## <a id='toc3_1_'></a>[Label-based Indexing](#toc0_)\n",
        "\n",
        "- The `.loc` indexer is used for **label-based selection** of rows and columns in Pandas.\n",
        "- You specify **row labels** and **column labels** instead of numerical positions.\n",
        "- It works with **strings, dates, categories**, or any custom index you assign.\n",
        "\n",
        "✍️ **Key Characteristics**\n",
        "\n",
        "- **Inclusive slicing:** Unlike Python slicing, both the **start** and **end labels** are included.\n",
        "- **Flexible input:** Accepts single labels, lists of labels, slices, or boolean masks.\n",
        "- **Two-dimensional:** First part is **rows**, second part is **columns** → `df.loc[row_labels, col_labels]`.\n",
        "\n",
        "📝 **Docs**\n",
        "\n",
        "- Selection by label: [pandas.pydata.org/docs/user_guide/indexing.html#selection-by-label](https://pandas.pydata.org/docs/user_guide/indexing.html#selection-by-label)\n",
        "- `pandas.DataFrame.loc`: [pandas.pydata.org/docs/reference/api/pandas.DataFrame.loc.html](https://pandas.pydata.org/docs/reference/api/pandas.DataFrame.loc.html)"
      ]
    },
    {
      "cell_type": "markdown",
      "id": "0d8710b6",
      "metadata": {},
      "source": [
        "### <a id='toc3_1_1_'></a>[Select rows by label](#toc0_)\n"
      ]
    },
    {
      "cell_type": "code",
      "execution_count": null,
      "id": "f60750b1",
      "metadata": {},
      "outputs": [],
      "source": [
        "# single row [series object]\n",
        "print(df1.loc[\"a\"])"
      ]
    },
    {
      "cell_type": "code",
      "execution_count": null,
      "id": "d812a21f",
      "metadata": {},
      "outputs": [],
      "source": [
        "# single row [dataframe object]\n",
        "print(df1.loc[[\"a\"]])"
      ]
    },
    {
      "cell_type": "code",
      "execution_count": null,
      "id": "8dc0ef02",
      "metadata": {},
      "outputs": [],
      "source": [
        "# multiple rows\n",
        "print(df1.loc[[\"a\", \"c\"]])"
      ]
    },
    {
      "cell_type": "code",
      "execution_count": null,
      "id": "0380212d",
      "metadata": {},
      "outputs": [],
      "source": [
        "# slice of rows (label inclusive ✅)\n",
        "print(df1.loc[\"a\":\"c\"])"
      ]
    },
    {
      "cell_type": "markdown",
      "id": "e9e94afc",
      "metadata": {},
      "source": [
        "### <a id='toc3_1_2_'></a>[Select rows & specific columns](#toc0_)\n"
      ]
    },
    {
      "cell_type": "code",
      "execution_count": null,
      "id": "2b4ff692",
      "metadata": {},
      "outputs": [],
      "source": [
        "# row 'a', column 'Name'\n",
        "print(df1.loc[\"a\", \"Name\"])"
      ]
    },
    {
      "cell_type": "code",
      "execution_count": null,
      "id": "d15d9e07",
      "metadata": {},
      "outputs": [],
      "source": [
        "# rows 'a' to 'c', only 'Name' and 'City'\n",
        "print(df1.loc[\"a\":\"c\", [\"Name\", \"City\"]])"
      ]
    },
    {
      "cell_type": "code",
      "execution_count": null,
      "id": "29826193",
      "metadata": {},
      "outputs": [],
      "source": [
        "# all rows, multiple columns\n",
        "print(df1.loc[:, [\"Name\", \"City\"]])"
      ]
    },
    {
      "cell_type": "markdown",
      "id": "ced7eba2",
      "metadata": {},
      "source": [
        "### <a id='toc3_1_3_'></a>[Assigning values with `.loc`](#toc0_)\n"
      ]
    },
    {
      "cell_type": "code",
      "execution_count": null,
      "id": "03da7c67",
      "metadata": {},
      "outputs": [],
      "source": [
        "# change Bob's age\n",
        "df1.loc[\"b\", \"Age\"] = 30\n",
        "print(df1)"
      ]
    },
    {
      "cell_type": "code",
      "execution_count": null,
      "id": "ee4db631",
      "metadata": {},
      "outputs": [],
      "source": [
        "# update multiple rows at once\n",
        "df1.loc[\"a\":\"c\", \"City\"] = \"Unknown\"\n",
        "print(df1)"
      ]
    },
    {
      "cell_type": "markdown",
      "id": "5b161d44",
      "metadata": {},
      "source": [
        "## <a id='toc3_2_'></a>[Integer-based Indexing](#toc0_)\n",
        "\n",
        "- The `.iloc` indexer is used for **integer position-based selection** of rows and columns.\n",
        "- Instead of labels, it relies purely on **numerical positions**, similar to standard Python and NumPy indexing.\n",
        "- This makes `.iloc` very predictable, especially when working with **default integer indexes** or when labels are unknown.\n",
        "\n",
        "✍️ **Key Characteristics**\n",
        "\n",
        "- **Zero-based indexing:** Positions start at `0` for the first row/column.\n",
        "- **Exclusive slicing:** Like Python, the **end position is excluded** in slices.\n",
        "- **Flexible input:** Accepts single integers, lists, NumPy arrays, or slices.\n",
        "- **Two-dimensional:** `df.iloc[row_positions, col_positions]`.\n",
        "\n",
        "⚠️ **Common Pitfall**\n",
        "\n",
        "- `.iloc` works only with integers. If your index labels are numeric (e.g., `0, 1, 2`), remember that `.iloc[0]` selects the **first row by position**, not necessarily the row with label `0`.\n",
        "\n",
        "📝 **Docs**\n",
        "\n",
        "- Selection by position: [pandas.pydata.org/docs/user_guide/indexing.html#selection-by-position](https://pandas.pydata.org/docs/user_guide/indexing.html#selection-by-position)\n",
        "- `pandas.DataFrame.iloc`: [pandas.pydata.org/docs/reference/api/pandas.DataFrame.iloc.html](https://pandas.pydata.org/docs/reference/api/pandas.DataFrame.iloc.html)\n"
      ]
    },
    {
      "cell_type": "markdown",
      "id": "474b8a64",
      "metadata": {},
      "source": [
        "### <a id='toc3_2_1_'></a>[Select rows by position](#toc0_)\n"
      ]
    },
    {
      "cell_type": "code",
      "execution_count": null,
      "id": "494ed186",
      "metadata": {},
      "outputs": [],
      "source": [
        "# first row (position 0) [series object]\n",
        "print(df2.iloc[0])"
      ]
    },
    {
      "cell_type": "code",
      "execution_count": null,
      "id": "0cc5c841",
      "metadata": {},
      "outputs": [],
      "source": [
        "# first row (position 0) [dataframe object]\n",
        "print(df2.iloc[[0]])"
      ]
    },
    {
      "cell_type": "code",
      "execution_count": null,
      "id": "3845c252",
      "metadata": {},
      "outputs": [],
      "source": [
        "# multiple rows by positions\n",
        "print(df2.iloc[[0, 2]])"
      ]
    },
    {
      "cell_type": "code",
      "execution_count": null,
      "id": "acd9b78a",
      "metadata": {},
      "outputs": [],
      "source": [
        "# slice (end exclusive ❌)\n",
        "print(df2.iloc[0:2])"
      ]
    },
    {
      "cell_type": "markdown",
      "id": "002b213d",
      "metadata": {},
      "source": [
        "### <a id='toc3_2_2_'></a>[Select rows & specific columns](#toc0_)\n"
      ]
    },
    {
      "cell_type": "code",
      "execution_count": null,
      "id": "cda63c51",
      "metadata": {},
      "outputs": [],
      "source": [
        "# row 0, column 1 (Genre)\n",
        "print(df2.iloc[0, 1])"
      ]
    },
    {
      "cell_type": "code",
      "execution_count": null,
      "id": "bd1697f4",
      "metadata": {},
      "outputs": [],
      "source": [
        "# rows 0–2, columns 0 and 2 (Film, Lead Studio)\n",
        "print(df2.iloc[0:3, [0, 2]])"
      ]
    },
    {
      "cell_type": "markdown",
      "id": "507e1453",
      "metadata": {},
      "source": [
        "### <a id='toc3_2_3_'></a>[Using negative indices](#toc0_)\n"
      ]
    },
    {
      "cell_type": "code",
      "execution_count": null,
      "id": "a6d7a058",
      "metadata": {},
      "outputs": [],
      "source": [
        "# last row\n",
        "print(df2.iloc[-1])"
      ]
    },
    {
      "cell_type": "code",
      "execution_count": null,
      "id": "3cbe4b7e",
      "metadata": {},
      "outputs": [],
      "source": [
        "# last two rows\n",
        "print(df2.iloc[-2:])"
      ]
    },
    {
      "cell_type": "markdown",
      "id": "e91de888",
      "metadata": {},
      "source": [
        "### <a id='toc3_2_4_'></a>[Assigning with `.iloc`](#toc0_)\n"
      ]
    },
    {
      "cell_type": "code",
      "execution_count": null,
      "id": "3ba1604c",
      "metadata": {},
      "outputs": [],
      "source": [
        "# Change value at row 1, column 1 (Genre)\n",
        "df2.iloc[1, 1] = \"Romance\"\n",
        "print(df2.head())"
      ]
    },
    {
      "cell_type": "code",
      "execution_count": null,
      "id": "46bee4ae",
      "metadata": {},
      "outputs": [],
      "source": [
        "# Change last two rows, Age column\n",
        "df2.iloc[-2:, 1] = \"Drama\"\n",
        "print(df2.tail())"
      ]
    },
    {
      "cell_type": "markdown",
      "id": "37093a55",
      "metadata": {},
      "source": [
        "## <a id='toc3_3_'></a>[Direct Indexing](#toc0_)\n",
        "\n",
        "- Direct indexing with square brackets (`[]`) is the **most common** way to select columns in a Pandas `DataFrame`.\n",
        "- However, the behavior depends on whether you use **single brackets** or **double brackets**.\n",
        "\n",
        "✍️ **Key Characteristics**\n",
        "\n",
        "- `df['col']` → returns a **Series** (1D object).\n",
        "- `df[['col']]` → returns a **DataFrame** (2D object).\n",
        "- `df[['col1', 'col2']]` → selects **multiple columns** as a DataFrame.\n",
        "- `df[0:3]` → when using a slice, selects **rows by integer position** (similar to `.iloc`).\n",
        "\n",
        "⚠️ **Common Pitfall**\n",
        "\n",
        "- `df[[0, 2, 4]]` ❌ → will **not work** for selecting rows. Row indexing must be done with `.iloc` or `.loc`.\n",
        "- Always remember: **single/double brackets affect dimensionality** (Series vs. DataFrame).\n",
        "\n",
        "📝 **Docs**\n",
        "\n",
        "- Basics: [pandas.pydata.org/docs/user_guide/indexing.html#basics](https://pandas.pydata.org/docs/user_guide/indexing.html#basics)\n"
      ]
    },
    {
      "cell_type": "markdown",
      "id": "1f129b56",
      "metadata": {},
      "source": [
        "### <a id='toc3_3_1_'></a>[Single column](#toc0_)\n"
      ]
    },
    {
      "cell_type": "code",
      "execution_count": null,
      "id": "51751e85",
      "metadata": {},
      "outputs": [],
      "source": [
        "print(df2[\"Film\"], end=\"\\n\\n\")\n",
        "print(type(df2[\"Film\"]))"
      ]
    },
    {
      "cell_type": "code",
      "execution_count": null,
      "id": "ec360ce0",
      "metadata": {},
      "outputs": [],
      "source": [
        "print(df2[\"Film\"], end=\"\\n\\n\")\n",
        "print(type(df2[[\"Film\"]]))"
      ]
    },
    {
      "cell_type": "markdown",
      "id": "ba639b91",
      "metadata": {},
      "source": [
        "### <a id='toc3_3_2_'></a>[Multiple columns](#toc0_)\n"
      ]
    },
    {
      "cell_type": "code",
      "execution_count": null,
      "id": "9df7251a",
      "metadata": {},
      "outputs": [],
      "source": [
        "print(df2[[\"Film\", \"Genre\"]], end='\\n\\n')\n",
        "print(type(df2[[\"Film\", \"Genre\"]]))"
      ]
    },
    {
      "cell_type": "markdown",
      "id": "9c40bbee",
      "metadata": {},
      "source": [
        "### <a id='toc3_3_3_'></a>[Row slicing](#toc0_)\n"
      ]
    },
    {
      "cell_type": "code",
      "execution_count": null,
      "id": "47a50aa1",
      "metadata": {},
      "outputs": [],
      "source": [
        "print(df2[0:2])"
      ]
    },
    {
      "cell_type": "markdown",
      "id": "5004b613",
      "metadata": {},
      "source": [
        "## <a id='toc3_4_'></a>[Boolean Indexing and Conditions](#toc0_)\n",
        "\n",
        "- Boolean indexing is one of the most powerful features in pandas.\n",
        "- It allows you to **filter rows or columns** based on logical conditions, similar to SQL `WHERE` clauses.\n",
        "\n",
        "📝 **Docs**\n",
        "\n",
        "- Boolean indexing: [pandas.pydata.org/docs/user_guide/indexing.html#boolean-indexing](https://pandas.pydata.org/docs/user_guide/indexing.html#boolean-indexing)\n"
      ]
    },
    {
      "cell_type": "markdown",
      "id": "110329c2",
      "metadata": {},
      "source": [
        "### <a id='toc3_4_1_'></a>[Basics of Boolean Indexing](#toc0_)\n",
        "\n",
        "- When you apply a condition on a DataFrame/Series, pandas returns a **Boolean mask** (True/False values) that you can use for filtering.\n"
      ]
    },
    {
      "cell_type": "code",
      "execution_count": null,
      "id": "4811f250",
      "metadata": {},
      "outputs": [],
      "source": [
        "# condition -> returns a Boolean Series\n",
        "mask = df2[\"Year\"] > 2010\n",
        "print(mask)"
      ]
    },
    {
      "cell_type": "code",
      "execution_count": null,
      "id": "92cd3d7e",
      "metadata": {},
      "outputs": [],
      "source": [
        "# use mask to filter rows\n",
        "print(df2[mask])"
      ]
    },
    {
      "cell_type": "markdown",
      "id": "c3d120bb",
      "metadata": {},
      "source": [
        "### <a id='toc3_4_2_'></a>[Combining Multiple Conditions](#toc0_)\n",
        "\n",
        "- Use `&` for AND, `|` for OR, and `~` for NOT.\n",
        "- Don’t forget parentheses around each condition!\n"
      ]
    },
    {
      "cell_type": "code",
      "execution_count": null,
      "id": "6503624b",
      "metadata": {},
      "outputs": [],
      "source": [
        "# Drama films released in 2011\n",
        "mask = (df2[\"Year\"] == 2011) & (df2[\"Genre\"] == \"Drama\")\n",
        "print(df2[mask])\n"
      ]
    },
    {
      "cell_type": "code",
      "execution_count": null,
      "id": "4d7255ec",
      "metadata": {},
      "outputs": [],
      "source": [
        "# Films with Profitability > 10.0 OR Audience score > 90%\n",
        "mask = (df2[\"Profitability\"] > 10.0) | (df2[\"Audience score %\"] > 88)\n",
        "print(df2[mask])\n"
      ]
    },
    {
      "cell_type": "code",
      "execution_count": null,
      "id": "94981578",
      "metadata": {},
      "outputs": [],
      "source": [
        "# Films NOT from Romance Genre\n",
        "print(df2[~(df2[\"Genre\"] == \"Romance\")])\n"
      ]
    },
    {
      "cell_type": "markdown",
      "id": "76e6f472",
      "metadata": {},
      "source": [
        "### <a id='toc3_4_3_'></a>[Filtering with `.isin()`](#toc0_)\n"
      ]
    },
    {
      "cell_type": "code",
      "execution_count": null,
      "id": "9b5554f4",
      "metadata": {},
      "outputs": [],
      "source": [
        "# Drama or Animation films\n",
        "print(df2[df2[\"Genre\"].isin([\"Drama\", \"Animation\"])])"
      ]
    },
    {
      "cell_type": "markdown",
      "id": "ed6f9d00",
      "metadata": {},
      "source": [
        "### <a id='toc3_4_4_'></a>[Filtering with `.between()`](#toc0_)\n"
      ]
    },
    {
      "cell_type": "code",
      "execution_count": null,
      "id": "ca648767",
      "metadata": {},
      "outputs": [],
      "source": [
        "# Films between 2008 and 2010 (inclusive)\n",
        "print(df2[df2[\"Year\"].between(2008, 2010)])\n"
      ]
    },
    {
      "cell_type": "markdown",
      "id": "837e34b5",
      "metadata": {},
      "source": [
        "### <a id='toc3_4_5_'></a>[Using `.query()` as alternative](#toc0_)\n"
      ]
    },
    {
      "cell_type": "code",
      "execution_count": null,
      "id": "df39fd45",
      "metadata": {},
      "outputs": [],
      "source": [
        "# SQL-like syntax\n",
        "print(df2.query(\"Year > 2010 and Genre == 'Romance'\"))"
      ]
    },
    {
      "cell_type": "markdown",
      "id": "6da864e1",
      "metadata": {},
      "source": [
        "## <a id='toc3_5_'></a>[Setting and Resetting Index](#toc0_)\n",
        "\n",
        "- Pandas allows you to **control the row labels (index)** of a DataFrame.\n",
        "- This is useful for **organizing, filtering, and joining data** efficiently.\n"
      ]
    },
    {
      "cell_type": "markdown",
      "id": "6475a1fb",
      "metadata": {},
      "source": [
        "### <a id='toc3_5_1_'></a>[Setting an Index](#toc0_)\n",
        "\n",
        "- Use `set_index()` to make **one or more columns the index**.\n",
        "- This can make **row selection more meaningful**, e.g., using dates, names, or IDs as labels.\n",
        "- Can create a **hierarchical (MultiIndex)** by passing multiple columns.\n",
        "\n",
        "✍️ **Key Points**  \n",
        "- Original columns can be **dropped** or **kept** in the DataFrame.\n",
        "- Indexes improve **lookup speed** and **data alignment**.\n",
        "\n",
        "📝 **Docs:**\n",
        "\n",
        "- `pandas.DataFrame.set_index`: [pandas.pydata.org/docs/reference/api/pandas.DataFrame.set_index.html](https://pandas.pydata.org/docs/reference/api/pandas.DataFrame.set_index.html)\n"
      ]
    },
    {
      "cell_type": "code",
      "execution_count": null,
      "id": "60e17456",
      "metadata": {},
      "outputs": [],
      "source": [
        "# set \"Film\" as index (returns a new DataFrame by default)\n",
        "df3 = df2.set_index(\"Film\")\n",
        "\n",
        "# log\n",
        "print(df3.head(), end=\"\\n\\n\")\n",
        "print(df3.index[0])"
      ]
    },
    {
      "cell_type": "code",
      "execution_count": null,
      "id": "3920b11b",
      "metadata": {},
      "outputs": [],
      "source": [
        "# set [\"Film\", \"Genre\"] as index (returns a new DataFrame by default)\n",
        "df4 = df2.set_index([\"Film\", \"Genre\"])\n",
        "\n",
        "# log\n",
        "print(df4.head(), end=\"\\n\\n\")\n",
        "print(df4.index[0])"
      ]
    },
    {
      "cell_type": "code",
      "execution_count": null,
      "id": "1263b0a3",
      "metadata": {},
      "outputs": [],
      "source": [
        "# set \"Film\" as index in-place\n",
        "df2.set_index(\"Film\", inplace=True)\n",
        "\n",
        "# log\n",
        "print(df2.head(), end=\"\\n\\n\")\n",
        "print(df2.index[0])"
      ]
    },
    {
      "cell_type": "markdown",
      "id": "d38bf69e",
      "metadata": {},
      "source": [
        "### <a id='toc3_5_2_'></a>[Resetting an Index](#toc0_)\n",
        "\n",
        "- Use `reset_index()` to restore the **default integer index**.\n",
        "- Original index can be turned into a column or discarded.\n",
        "- Often used after **data manipulations** like filtering or joining.\n",
        "\n",
        "✍️ **Key Points**\n",
        "- Resets **single-level** or **MultiIndex** back to flat structure.\n",
        "- Useful for returning data to a **standard tabular format**\n",
        "\n",
        "📝 **Docs:**\n",
        "\n",
        "- `pandas.DataFrame.reset_index`: [pandas.pydata.org/docs/reference/api/pandas.DataFrame.reset_index.html](https://pandas.pydata.org/docs/reference/api/pandas.DataFrame.reset_index.html)\n"
      ]
    },
    {
      "cell_type": "code",
      "execution_count": null,
      "id": "b6441b83",
      "metadata": {},
      "outputs": [],
      "source": [
        "# reset index back to default integer index\n",
        "df2 = df2.reset_index()\n",
        "print(df2.head())"
      ]
    },
    {
      "cell_type": "code",
      "execution_count": null,
      "id": "813fa7d8",
      "metadata": {},
      "outputs": [],
      "source": [
        "# reset index and drop the old index column\n",
        "df3 = df3.reset_index(drop=True)\n",
        "print(df3.head())"
      ]
    },
    {
      "cell_type": "markdown",
      "id": "f6ae72db",
      "metadata": {},
      "source": [
        "## <a id='toc3_6_'></a>[Chained Indexing vs. Single Indexing](#toc0_)\n",
        "\n",
        "- Chained indexing occurs when you use **multiple indexing operations in sequence**, like `df['col'][0]`.\n",
        "- While it may work, it can lead to **unexpected behavior** and is generally **not recommended**.\n",
        "\n",
        "⚠️ **Why Avoid Chained Indexing**\n",
        "\n",
        "- Can cause **silent bugs** when modifying data.\n",
        "- Makes **debugging harder** because pandas may create a temporary object.\n",
        "- Not guaranteed to work consistently across different pandas versions.\n",
        "\n",
        "✅ **Best Practices**\n",
        "\n",
        "- Prefer **`.loc` or `.iloc`** for any row and column selection in **one step**.\n",
        "- Use chained indexing **only for read-only operations** if necessary.\n",
        "- Think of **single indexing** as the “safe and reliable” method.\n",
        "\n",
        "📝 **Docs:**\n",
        "\n",
        "- Returning a view versus a copy: [pandas.pydata.org/docs/user_guide/indexing.html#indexing-view-versus-copy](https://pandas.pydata.org/docs/user_guide/indexing.html#indexing-view-versus-copy)\n"
      ]
    },
    {
      "cell_type": "code",
      "execution_count": null,
      "id": "b1b237fe",
      "metadata": {},
      "outputs": [],
      "source": [
        "df = pd.DataFrame({\n",
        "    \"A\": [1, 2, 3, 4],\n",
        "    \"B\": [10, 20, 30, 40],\n",
        "    \"C\": [100, 200, 300, 400]\n",
        "}, index=[\"a\", \"b\", \"c\", \"d\"])\n",
        "\n",
        "print(df)"
      ]
    },
    {
      "cell_type": "code",
      "execution_count": null,
      "id": "05b65e6c",
      "metadata": {},
      "outputs": [],
      "source": [
        "# try to modify via chained indexing\n",
        "df[df[\"A\"] > 2][\"C\"] = 999   # ⚠️ this will raise a SettingWithCopyWarning"
      ]
    },
    {
      "cell_type": "code",
      "execution_count": null,
      "id": "18af696b",
      "metadata": {},
      "outputs": [],
      "source": [
        "# use .loc instead\n",
        "df.loc[df[\"A\"] > 2, \"C\"] = 999\n",
        "print(df)"
      ]
    },
    {
      "cell_type": "markdown",
      "id": "c4db8684",
      "metadata": {},
      "source": [
        "## <a id='toc3_7_'></a>[MultiIndex (Hierarchical Indexing)](#toc0_)\n",
        "\n",
        "- Pandas supports **multi-level (hierarchical) indexing**, known as **MultiIndex**, which allows working with higher-dimensional data in a 2D `DataFrame`.\n",
        "\n",
        "📝 **Docs:**\n",
        "\n",
        "- MultiIndex / advanced indexing: [pandas.pydata.org/docs/user_guide/advanced.html](https://pandas.pydata.org/docs/user_guide/advanced.html)\n"
      ]
    },
    {
      "cell_type": "markdown",
      "id": "80d10954",
      "metadata": {},
      "source": [
        "### <a id='toc3_7_1_'></a>[Creating a MultiIndex](#toc0_)\n"
      ]
    },
    {
      "cell_type": "code",
      "execution_count": null,
      "id": "7adc4a18",
      "metadata": {},
      "outputs": [],
      "source": [
        "data = {\n",
        "    \"Sales\": [200, 220, 180, 210, 500, 480],\n",
        "    \"Revenue\": [2000, 2200, 1800, 2100, 5000, 4800],\n",
        "}"
      ]
    },
    {
      "cell_type": "code",
      "execution_count": null,
      "id": "db48864c",
      "metadata": {},
      "outputs": [],
      "source": [
        "# MultiIndex from tuples: (Store, Product)\n",
        "index = pd.MultiIndex.from_tuples(\n",
        "    [\n",
        "        (\"Store_A\", \"Apples\"),\n",
        "        (\"Store_A\", \"Bananas\"),\n",
        "        (\"Store_A\", \"Oranges\"),\n",
        "        (\"Store_B\", \"Apples\"),\n",
        "        (\"Store_B\", \"Bananas\"),\n",
        "        (\"Store_B\", \"Oranges\"),\n",
        "    ],\n",
        "    names=(\"Store\", \"Product\"),\n",
        ")\n",
        "index"
      ]
    },
    {
      "cell_type": "code",
      "execution_count": null,
      "id": "7762df83",
      "metadata": {},
      "outputs": [],
      "source": [
        "df = pd.DataFrame(data, index=index)\n",
        "df"
      ]
    },
    {
      "cell_type": "markdown",
      "id": "d33abb7d",
      "metadata": {},
      "source": [
        "### <a id='toc3_7_2_'></a>[Selecting with MultiIndex](#toc0_)\n"
      ]
    },
    {
      "cell_type": "code",
      "execution_count": null,
      "id": "96f6b688",
      "metadata": {},
      "outputs": [],
      "source": [
        "# select all products for a single store\n",
        "df.loc[\"Store_A\"]"
      ]
    },
    {
      "cell_type": "code",
      "execution_count": null,
      "id": "dad56058",
      "metadata": {},
      "outputs": [],
      "source": [
        "# select a single product in a store\n",
        "df.loc[\"Store_A\", \"Apples\"]"
      ]
    },
    {
      "cell_type": "code",
      "execution_count": null,
      "id": "0722802a",
      "metadata": {},
      "outputs": [],
      "source": [
        "# select across a level (all stores for 'Apples')\n",
        "df.xs(\"Apples\", level=\"Product\")"
      ]
    },
    {
      "cell_type": "code",
      "execution_count": null,
      "id": "fd4c697a",
      "metadata": {},
      "outputs": [],
      "source": [
        "# slice multiple values\n",
        "df.loc[pd.IndexSlice[:, [\"Apples\", \"Oranges\"]], :]"
      ]
    },
    {
      "cell_type": "markdown",
      "id": "46c6c668",
      "metadata": {},
      "source": [
        "### <a id='toc3_7_3_'></a>[Swapping and Sorting Levels](#toc0_)\n"
      ]
    },
    {
      "cell_type": "code",
      "execution_count": null,
      "id": "fc260e31",
      "metadata": {},
      "outputs": [],
      "source": [
        "# swap levels (Store ↔ Product)\n",
        "df_swapped = df.swaplevel(\"Store\", \"Product\")\n",
        "df_swapped"
      ]
    },
    {
      "cell_type": "code",
      "execution_count": null,
      "id": "3b74410b",
      "metadata": {},
      "outputs": [],
      "source": [
        "# sort by index\n",
        "df_sorted = df_swapped.sort_index(ascending=True)\n",
        "df_sorted"
      ]
    },
    {
      "cell_type": "code",
      "execution_count": null,
      "id": "055cb1f6",
      "metadata": {},
      "outputs": [],
      "source": [
        "# sort within original index\n",
        "df_sorted_orig = df.sort_index(level=\"Product\")\n",
        "df_sorted_orig"
      ]
    },
    {
      "cell_type": "markdown",
      "id": "eaf4ada4",
      "metadata": {},
      "source": [
        "### <a id='toc3_7_4_'></a>[Resetting MultiIndex](#toc0_)\n"
      ]
    },
    {
      "cell_type": "code",
      "execution_count": null,
      "id": "648474e5",
      "metadata": {},
      "outputs": [],
      "source": [
        "# reset all index levels\n",
        "df_reset = df.reset_index()\n",
        "df_reset"
      ]
    },
    {
      "cell_type": "code",
      "execution_count": null,
      "id": "006ab91d",
      "metadata": {},
      "outputs": [],
      "source": [
        "# reset only one level of the index\n",
        "df_reset_store = df.reset_index(level=\"Store\")\n",
        "df_reset_store"
      ]
    },
    {
      "cell_type": "code",
      "execution_count": null,
      "id": "8cb6c62f",
      "metadata": {},
      "outputs": [],
      "source": [
        "# keep index but make it a column with drop=False\n",
        "df_reset_keep = df.reset_index(level=\"Product\", drop=False)\n",
        "df_reset_keep"
      ]
    },
    {
      "cell_type": "markdown",
      "id": "c6f9cde6",
      "metadata": {},
      "source": [
        "## <a id='toc3_8_'></a>[Renaming & Naming Index/Columns](#toc0_)\n",
        "\n",
        "- Pandas allows you to **name and rename** both indexes and columns to make your data more readable and meaningful.\n",
        "- Proper naming helps with **selection, filtering, and readability** in large datasets.\n",
        "\n",
        "📝 **Docs:**\n",
        "\n",
        "- `pandas.DataFrame.rename`: [pandas.pydata.org/docs/reference/api/pandas.DataFrame.rename.html](https://pandas.pydata.org/docs/reference/api/pandas.DataFrame.rename.html)\n"
      ]
    },
    {
      "cell_type": "markdown",
      "id": "cfa0ed5c",
      "metadata": {},
      "source": [
        "### <a id='toc3_8_1_'></a>[Naming Indexes](#toc0_)\n"
      ]
    },
    {
      "cell_type": "code",
      "execution_count": null,
      "id": "ef528605",
      "metadata": {},
      "outputs": [],
      "source": [
        "# assign names to index\n",
        "df2.index.set_names(\"New Index\", inplace=True)\n",
        "df2"
      ]
    },
    {
      "cell_type": "code",
      "execution_count": null,
      "id": "b0c0e138",
      "metadata": {},
      "outputs": [],
      "source": [
        "# name the columns axis\n",
        "df2.columns.name = \"Columns\"\n",
        "print(df2)"
      ]
    },
    {
      "cell_type": "markdown",
      "id": "24f8dd87",
      "metadata": {},
      "source": [
        "### <a id='toc3_8_2_'></a>[Renaming Indexes](#toc0_)"
      ]
    },
    {
      "cell_type": "code",
      "execution_count": null,
      "id": "ad284180",
      "metadata": {},
      "outputs": [],
      "source": [
        "# rename specific labels with rename()\n",
        "df2.rename(index={0: \"a\", 1: \"b\"})"
      ]
    },
    {
      "cell_type": "markdown",
      "id": "9d22622e",
      "metadata": {},
      "source": [
        "### <a id='toc3_8_3_'></a>[Renaming Columns](#toc0_)"
      ]
    },
    {
      "cell_type": "code",
      "execution_count": null,
      "id": "3bfafd31",
      "metadata": {},
      "outputs": [],
      "source": [
        "# rename specific labels with rename()\n",
        "df2.rename(columns={\"Lead Studio\": \"Studio\"})"
      ]
    }
  ],
  "metadata": {
    "author_email": "AmirhosseinHeydari78@gmail.com",
    "author_github": "https://github.com/mr-pylin",
    "author_name": "Amirhossein Heydari",
    "kernelspec": {
      "display_name": "pandas-workshop (3.13.7)",
      "language": "python",
      "name": "python3"
    },
    "language_info": {
      "codemirror_mode": {
        "name": "ipython",
        "version": 3
      },
      "file_extension": ".py",
      "mimetype": "text/x-python",
      "name": "python",
      "nbconvert_exporter": "python",
      "pygments_lexer": "ipython3",
      "version": "3.13.7"
    },
    "origin_repo": "https://github.com/mr-pylin/pandas-workshop"
  },
  "nbformat": 4,
  "nbformat_minor": 5
}
