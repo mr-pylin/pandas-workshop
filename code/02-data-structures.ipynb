{
  "cells": [
    {
      "cell_type": "markdown",
      "id": "dc09dda9",
      "metadata": {},
      "source": [
        "<div style=\"display: flex; justify-content: space-between; align-items: center;\">\n",
        "    <div style=\"text-align: left; flex: 4;\">\n",
        "        📝 <strong>Author:</strong> Amirhossein Heydari -\n",
        "        📧 <strong>Email:</strong> <a href=\"mailto:amirhosseinheydari78@gmail.com\">amirhosseinheydari78@gmail.com</a> -\n",
        "        📍 <strong>Origin:</strong> <a href=\"https://github.com/mr-pylin/pandas-workshop\" target=\"_blank\" rel=\"noopener\">pandas-workshop</a>\n",
        "    </div>\n",
        "    <div style=\"text-align: right; flex: 1;\">\n",
        "        <img src=\"../assets/images/pandas/logo/pandas_white.svg\" alt=\"Pandas Logo\" style=\"max-height: 48px; width: auto; background-color: #1f1f1f; border-radius: 8px;\">\n",
        "    </div>\n",
        "</div>\n",
        "<hr>\n"
      ]
    },
    {
      "cell_type": "markdown",
      "id": "fcd9f1ad",
      "metadata": {},
      "source": [
        "**Table of contents**<a id='toc0_'></a>    \n",
        "- [Dependencies](#toc1_)    \n",
        "- [Pandas Data Structures](#toc2_)    \n",
        "  - [Series](#toc2_1_)    \n",
        "  - [DataFrame](#toc2_2_)    \n",
        "  - [DataFrame vs. Structured Array](#toc2_3_)    \n",
        "- [Common Attributes and Methods](#toc3_)    \n",
        "  - [Core Attributes](#toc3_1_)    \n",
        "    - [Shape and Size](#toc3_1_1_)    \n",
        "    - [Index and Labels](#toc3_1_2_)    \n",
        "    - [Content Access / Representation](#toc3_1_3_)    \n",
        "    - [Metadata / Utility](#toc3_1_4_)    \n",
        "  - [Core Methods](#toc3_2_)    \n",
        "    - [Data Inspection / Quick View](#toc3_2_1_)    \n",
        "    - [Unique / Value Analysis](#toc3_2_2_)    \n",
        "    - [Missing Data](#toc3_2_3_)    \n",
        "    - [Data Copy](#toc3_2_4_)    \n",
        "    - [Sorting](#toc3_2_5_)    \n",
        "- [Dtypes and Type Inference](#toc4_)    \n",
        "  - [Data Types](#toc4_1_)    \n",
        "  - [Type Inference in Pandas](#toc4_2_)    \n",
        "\n",
        "<!-- vscode-jupyter-toc-config\n",
        "\tnumbering=false\n",
        "\tanchor=true\n",
        "\tflat=false\n",
        "\tminLevel=1\n",
        "\tmaxLevel=6\n",
        "\t/vscode-jupyter-toc-config -->\n",
        "<!-- THIS CELL WILL BE REPLACED ON TOC UPDATE. DO NOT WRITE YOUR TEXT IN THIS CELL -->"
      ]
    },
    {
      "cell_type": "markdown",
      "id": "703f0cb7",
      "metadata": {},
      "source": [
        "# <a id='toc1_'></a>[Dependencies](#toc0_)\n"
      ]
    },
    {
      "cell_type": "code",
      "execution_count": null,
      "id": "32ec40e5",
      "metadata": {},
      "outputs": [],
      "source": [
        "import numpy as np\n",
        "import pandas as pd"
      ]
    },
    {
      "cell_type": "code",
      "execution_count": null,
      "id": "309fbe09",
      "metadata": {},
      "outputs": [],
      "source": [
        "# set maximum line width for printing arrays\n",
        "np.set_printoptions(linewidth=120)\n",
        "\n",
        "# disable wrapping entirely\n",
        "pd.set_option('display.expand_frame_repr', False)"
      ]
    },
    {
      "cell_type": "code",
      "execution_count": null,
      "id": "61c839f1",
      "metadata": {},
      "outputs": [],
      "source": [
        "data_1 = {\n",
        "    \"Employee_ID\": [101, 102, 103, 104, 105, 106, 107, 108],\n",
        "    \"Name\": [\n",
        "        \"Alice Johnson\",\n",
        "        \"Bob Smith\",\n",
        "        \"Charlie Brown\",\n",
        "        \"Diana Davis\",\n",
        "        \"Eve Wilson\",\n",
        "        \"Frank Miller\",\n",
        "        \"Grace Lee\",\n",
        "        \"Henry Taylor\",\n",
        "    ],\n",
        "    \"Department\": [\"Engineering\", \"Marketing\", \"Sales\", \"Engineering\", \"HR\", \"Sales\", \"Marketing\", \"Engineering\"],\n",
        "    \"Salary\": [75000, 62000, 58000, None, 55000, 61000, 59000, 78000],\n",
        "    \"Experience_Years\": [3, 5, 2, 7, 4, 3, 6, None],\n",
        "}"
      ]
    },
    {
      "cell_type": "code",
      "execution_count": null,
      "id": "fa01d752",
      "metadata": {},
      "outputs": [],
      "source": [
        "data_2 = [\n",
        "    [101, \"Alice Johnson\", \"Engineering\", 75000, 3],\n",
        "    [102, \"Bob Smith\", \"Marketing\", 62000, 5],\n",
        "    [103, \"Charlie Brown\", \"Sales\", 58000, 2],\n",
        "    [104, \"Diana Davis\", \"Engineering\", 82000, 7],\n",
        "    [105, \"Eve Wilson\", \"HR\", 55000, 4],\n",
        "    [106, \"Frank Miller\", \"Sales\", 61000, 3],\n",
        "    [107, \"Grace Lee\", \"Marketing\", 59000, 6],\n",
        "    [108, \"Henry Taylor\", \"Engineering\", 78000, 5],\n",
        "]\n",
        "\n",
        "columns_2 = [\"Employee_ID\", \"Name\", \"Department\", \"Salary\", \"Experience_Years\"]"
      ]
    },
    {
      "cell_type": "code",
      "execution_count": null,
      "id": "f19da465",
      "metadata": {},
      "outputs": [],
      "source": [
        "# note: NumPy arrays are homogeneous, so all data becomes strings\n",
        "data_3 = np.array(\n",
        "    [\n",
        "        [\"101\", \"Alice Johnson\", \"Engineering\", \"75000\", \"3\"],\n",
        "        [\"102\", \"Bob Smith\", \"Marketing\", \"62000\", \"5\"],\n",
        "        [\"103\", \"Charlie Brown\", \"Sales\", \"58000\", \"2\"],\n",
        "        [\"104\", \"Diana Davis\", \"Engineering\", \"82000\", \"7\"],\n",
        "        [\"105\", \"Eve Wilson\", \"HR\", \"55000\", \"4\"],\n",
        "        [\"106\", \"Frank Miller\", \"Sales\", \"61000\", \"3\"],\n",
        "        [\"107\", \"Grace Lee\", \"Marketing\", \"59000\", \"6\"],\n",
        "        [\"108\", \"Henry Taylor\", \"Engineering\", \"78000\", \"5\"],\n",
        "    ]\n",
        ")\n",
        "\n",
        "columns_3 = [\"Employee_ID\", \"Name\", \"Department\", \"Salary\", \"Experience_Years\"]"
      ]
    },
    {
      "cell_type": "markdown",
      "id": "7fd36ebb",
      "metadata": {},
      "source": [
        "# <a id='toc2_'></a>[Pandas Data Structures](#toc0_)\n",
        "\n",
        "📚 **Tutorials**:\n",
        "\n",
        "- What kind of data does pandas handle? [pandas.pydata.org/docs/getting_started/intro_tutorials/01_table_oriented.html](https://pandas.pydata.org/docs/getting_started/intro_tutorials/01_table_oriented.html)\n"
      ]
    },
    {
      "cell_type": "markdown",
      "id": "72ea3fcc",
      "metadata": {},
      "source": [
        "## <a id='toc2_1_'></a>[Series](#toc0_)\n",
        "\n",
        "- A `pandas.Series` is a **one-dimensional** labeled array capable of holding any data type.\n",
        "- It contains **data values** (integers, strings, floats, etc.) and **indexes** (labels that identify each value).\n",
        "- You can think of a `pandas.Series` as a **single column** of a **spreadsheet**, where each entry has both a **value** and a **label**.\n",
        "- It is perfect for representing **simple, one-dimensional data** like daily **temperatures**, **student grades**, or **stock prices**.\n",
        "\n",
        "<div style=\"text-align: center; padding-top: 10px;\">\n",
        "    <img src=\"../assets/images/pandas/tutorials/01/table_series.svg\" alt=\"Pandas Series\" style=\"min-width: 128px; max-width: 40%; height: auto; background-color: #DBDBDB; border-radius: 16px;\">\n",
        "    <p><em>Figure 1: Pandas Series structure</em> (<a href=\"https://pandas.pydata.org/docs/getting_started/index.html\" target=\"_blank\">source</a>)</p>\n",
        "</div>\n",
        "\n",
        "✍️ **Key Characteristics**\n",
        "\n",
        "- **Homogeneous data type:** all values in a Series are typically of the same type (`int`, `float`, `string`, etc.).\n",
        "- **Automatic indexing:** if you don’t provide labels, Pandas assigns **integer** indexes starting from `0`.\n",
        "- **Custom indexing:** you can assign meaningful labels (e.g., **names**, **dates**, **categories**).\n",
        "\n",
        "📝 **Docs**:\n",
        "\n",
        "- `pandas.Series`: [pandas.pydata.org/docs/reference/api/pandas.Series.html](https://pandas.pydata.org/docs/reference/api/pandas.Series.html)\n"
      ]
    },
    {
      "cell_type": "code",
      "execution_count": null,
      "id": "e78896f1",
      "metadata": {},
      "outputs": [],
      "source": [
        "# creating a Series from a list\n",
        "name = data_1[\"Name\"]\n",
        "s1 = pd.Series(name)\n",
        "\n",
        "# log\n",
        "print(f\"type(name) : {type(name)}\")\n",
        "print(f\"name       : {name}\")\n",
        "print(f\"type(s1)   : {type(s1)}\\n\")\n",
        "print(f\"s1:\\n{s1}\")"
      ]
    },
    {
      "cell_type": "code",
      "execution_count": null,
      "id": "e5cf4545",
      "metadata": {},
      "outputs": [],
      "source": [
        "# creating a Series from a NDArray with Custom Index\n",
        "salary = data_3[:, 3]\n",
        "s2 = pd.Series(salary, index=data_1[\"Name\"])\n",
        "\n",
        "# log\n",
        "print(f\"type(salary) : {type(salary)}\")\n",
        "print(f\"salary       : {salary}\")\n",
        "print(f\"type(s2) : {type(s2)}\\n\")\n",
        "print(f\"s2:\\n{s2}\")"
      ]
    },
    {
      "cell_type": "code",
      "execution_count": null,
      "id": "1ef6b555",
      "metadata": {},
      "outputs": [],
      "source": [
        "# creating a Series from a dictionary\n",
        "experience = {k: v for k, v in zip(data_1[\"Name\"], data_1[\"Experience_Years\"])}\n",
        "s3 = pd.Series(experience)\n",
        "\n",
        "\n",
        "# log\n",
        "print(f\"type(experience) : {type(salary)}\")\n",
        "print(f\"experience       : {salary}\")\n",
        "print(f\"type(s3) : {type(s3)}\\n\")\n",
        "print(f\"s3:\\n{s3}\")"
      ]
    },
    {
      "cell_type": "markdown",
      "id": "ddc7cf4e",
      "metadata": {},
      "source": [
        "## <a id='toc2_2_'></a>[DataFrame](#toc0_)\n",
        "\n",
        "- A `pandas.DataFrame` is a **two-dimensional**, **size-mutable**, **heterogeneous** tabular data structure with labeled axes (rows and columns).\n",
        "- It is essentially a collection of `pandas.Series` objects, aligned on a **shared index** similar to a spreadsheet with rows and columns.\n",
        "\n",
        "<div style=\"text-align: center; padding-top: 10px;\">\n",
        "    <img src=\"../assets/images/pandas/tutorials/01/table_dataframe.svg\" alt=\"Pandas Series\" style=\"min-width: 256px; max-width: 40%; height: auto; background-color: #DBDBDB; border-radius: 16px;\">\n",
        "    <p><em>Figure 2: Pandas DataFrame structure</em> (<a href=\"https://pandas.pydata.org/docs/getting_started/index.html\" target=\"_blank\">source</a>)</p>\n",
        "</div>\n",
        "\n",
        "❓ **Why is a DataFrame useful?**\n",
        "\n",
        "- Most real-world data (e.g., **CSV files**, **Excel sheets**, **SQL tables**) is tabular, not just one-dimensional.\n",
        "- DataFrames let you store and manipulate **heterogeneous data**: one column may hold integers, another strings, another dates, etc.\n",
        "- They provide powerful tools for filtering, grouping, joining, and summarizing data.\n",
        "\n",
        "📝 **Docs**:\n",
        "\n",
        "- `pandas.DataFrame`: [pandas.pydata.org/docs/reference/api/pandas.DataFrame.html](https://pandas.pydata.org/docs/reference/api/pandas.DataFrame.html)\n"
      ]
    },
    {
      "cell_type": "code",
      "execution_count": null,
      "id": "171ab9b3",
      "metadata": {},
      "outputs": [],
      "source": [
        "# creating a DataFrame from a dictionary\n",
        "df1 = pd.DataFrame(data_1)\n",
        "\n",
        "# log\n",
        "print(f\"type(df1): {type(df1)}\\n\")\n",
        "print(f\"df1:\\n{df1}\")"
      ]
    },
    {
      "cell_type": "code",
      "execution_count": null,
      "id": "fa6e5db1",
      "metadata": {},
      "outputs": [],
      "source": [
        "# creating a DataFrame from a list\n",
        "df2 = pd.DataFrame(data_2, columns=columns_2)\n",
        "\n",
        "# log\n",
        "print(f\"type(df2): {type(df2)}\\n\")\n",
        "print(f\"df2:\\n{df2}\")"
      ]
    },
    {
      "cell_type": "code",
      "execution_count": null,
      "id": "f5c00b35",
      "metadata": {},
      "outputs": [],
      "source": [
        "# creating a DataFrame from a NDArray\n",
        "df3 = pd.DataFrame(data_3, columns=columns_3)\n",
        "\n",
        "# log\n",
        "print(f\"type(df3): {type(df3)}\\n\")\n",
        "print(f\"df3:\\n{df3}\")"
      ]
    },
    {
      "cell_type": "code",
      "execution_count": null,
      "id": "b3395e09",
      "metadata": {},
      "outputs": [],
      "source": [
        "# creating a DataFrame from Series\n",
        "df4 = pd.DataFrame({\"Salary\": s2, \"Experience_Years\": s3})\n",
        "\n",
        "# log\n",
        "print(f\"type(df4): {type(df4)}\\n\")\n",
        "print(f\"df4:\\n{df4}\")"
      ]
    },
    {
      "cell_type": "markdown",
      "id": "12c62b77",
      "metadata": {},
      "source": [
        "## <a id='toc2_3_'></a>[DataFrame vs. Structured Array](#toc0_)\n",
        "\n",
        "- A structured array in **NumPy** is a type of array where each element can have **named fields**, and each field can have its own **data type**.\n",
        "- Fields are accessed by **name**, and the array itself remains a **homogeneous** NumPy object.\n",
        "- Structured arrays are **memory-efficient** and **simple** for **small**, **fixed** datasets.\n",
        "- DataFrames are more *flexible* and designed for **real-world data**, especially when working with **heterogeneous types**, **missing values**, or **large** datasets.\n",
        "\n",
        "✍️ **Key Differences**\n",
        "\n",
        "<table style=\"margin: 0 auto;\">\n",
        "  <thead>\n",
        "    <tr>\n",
        "      <th>Feature</th>\n",
        "      <th>Structured Array (NumPy)</th>\n",
        "      <th>DataFrame (Pandas)</th>\n",
        "    </tr>\n",
        "  </thead>\n",
        "  <tbody>\n",
        "    <tr>\n",
        "      <td>Column access</td>\n",
        "      <td>By field name (<code>data[\"field\"]</code>)</td>\n",
        "      <td>By column name (<code>df[\"column\"]</code>)</td>\n",
        "    </tr>\n",
        "    <tr>\n",
        "      <td>Row labels / index</td>\n",
        "      <td>None</td>\n",
        "      <td>Flexible <code>.index</code></td>\n",
        "    </tr>\n",
        "    <tr>\n",
        "      <td>Heterogeneous types</td>\n",
        "      <td>Supported per field</td>\n",
        "      <td>Supported per column</td>\n",
        "    </tr>\n",
        "    <tr>\n",
        "      <td>Missing values</td>\n",
        "      <td>Not supported natively</td>\n",
        "      <td>Supports <code>NaN</code></td>\n",
        "    </tr>\n",
        "    <tr>\n",
        "      <td>Operations</td>\n",
        "      <td>Limited; mostly vectorized math</td>\n",
        "      <td>Powerful: filtering, grouping, joining</td>\n",
        "    </tr>\n",
        "    <tr>\n",
        "      <td>Integration with analysis tools</td>\n",
        "      <td>Limited</td>\n",
        "      <td>Excellent: plotting, I/O, NumPy interop</td>\n",
        "    </tr>\n",
        "  </tbody>\n",
        "</table>\n",
        "\n",
        "📝 **Docs**:\n",
        "\n",
        "- Structured arrays **[numpy]**: [numpy.org/doc/stable/user/basics.rec.html](https://numpy.org/doc/stable/user/basics.rec.html)\n",
        "- More info: [github.com/mr-pylin/numpy-workshop/blob/main/code/15-structured-array.ipynb](https://github.com/mr-pylin/numpy-workshop/blob/main/code/15-structured-array.ipynb)\n"
      ]
    },
    {
      "cell_type": "code",
      "execution_count": null,
      "id": "b7a4d36b",
      "metadata": {},
      "outputs": [],
      "source": [
        "# define a structured array dtype\n",
        "dtype = [(\"Name\", \"U10\"), (\"Age\", \"i4\"), (\"City\", \"U15\")]\n",
        "\n",
        "# create the structured array\n",
        "data = np.array(\n",
        "    [\n",
        "        (\"Alice\", 25, \"New York\"),\n",
        "        (\"Bob\", 30, \"Los Angeles\"),\n",
        "        (\"Charlie\", 35, \"San Francisco\"),\n",
        "    ],\n",
        "    dtype=dtype,\n",
        ")\n",
        "\n",
        "# log\n",
        "print(f\"dtype        : {dtype}\")\n",
        "print(f\"data         : {data}\")\n",
        "print(f\"data['Name'] : {data[\"Name\"]}\")\n",
        "print(f\"data['Age']  : {data[\"Age\"]}\")\n",
        "print(f\"type(data)   : {type(data)}\")"
      ]
    },
    {
      "cell_type": "code",
      "execution_count": null,
      "id": "0383daa7",
      "metadata": {},
      "outputs": [],
      "source": [
        "# equivalent DataFrame\n",
        "df = pd.DataFrame(\n",
        "    {\n",
        "        \"Name\": [\"Alice\", \"Bob\", \"Charlie\"],\n",
        "        \"Age\": [25, 30, 35],\n",
        "        \"City\": [\"New York\", \"Los Angeles\", \"San Francisco\"],\n",
        "    }\n",
        ")\n",
        "\n",
        "# log\n",
        "print(f\"df:\\n{df}\\n\")\n",
        "print(f\"df['Name']:\\n{df[\"Name\"]}\\n\")\n",
        "print(f\"df['Age']:\\n{df[\"Age\"]}\")"
      ]
    },
    {
      "cell_type": "markdown",
      "id": "0c02717e",
      "metadata": {},
      "source": [
        "# <a id='toc3_'></a>[Common Attributes and Methods](#toc0_)\n",
        "\n",
        "- Before performing any analysis, it’s essential to understand the **structure** and **content** of your dataset.\n",
        "  - How many rows and columns does it have?\n",
        "  - What are the column names and index labels?\n",
        "  - What data types are present?\n",
        "  - Are there missing values?\n",
        "- Inspection helps you build intuition about the data and spot potential issues early.\n",
        "\n",
        "\n",
        "📝 **Docs**:\n",
        "\n",
        "- `Series` Attributes: [pandas.pydata.org/docs/reference/api/pandas.Series.html](https://pandas.pydata.org/docs/reference/api/pandas.Series.html#:~:text=changed%20as%20well.-,Attributes,-T)\n",
        "- `Series` Methods: [pandas.pydata.org/docs/reference/api/pandas.Series.html](https://pandas.pydata.org/docs/reference/api/pandas.Series.html#:~:text=on%20the%20dtype.-,Methods,-abs())\n",
        "- `DataFrame` Attributes: [pandas.pydata.org/docs/reference/api/pandas.DataFrame.html](https://pandas.pydata.org/docs/reference/api/pandas.DataFrame.html#:~:text=1%0Ac%20%203-,Attributes,-T)\n",
        "- `DataFrame` Methods: [pandas.pydata.org/docs/reference/api/pandas.DataFrame.html](https://pandas.pydata.org/docs/reference/api/pandas.DataFrame.html#:~:text=of%20the%20DataFrame.-,Methods,-abs())\n"
      ]
    },
    {
      "cell_type": "markdown",
      "id": "3d23da8a",
      "metadata": {},
      "source": [
        "## <a id='toc3_1_'></a>[Core Attributes](#toc0_)\n",
        "\n",
        "- These attributes provide quick information about the structure of a `DataFrame` or `Series`:\n",
        "\n",
        "<table style=\"margin: 0 auto;\">\n",
        "  <thead>\n",
        "    <tr>\n",
        "      <th>Attribute</th>\n",
        "      <th>Applies to</th>\n",
        "      <th>Description</th>\n",
        "    </tr>\n",
        "  </thead>\n",
        "  <tbody>\n",
        "    <tr>\n",
        "      <td><code>.shape</code></td>\n",
        "      <td><code>Series, DataFrame</code></td>\n",
        "      <td>Tuple representing dimensions; (rows, cols) for DataFrame, (n,) for Series</td>\n",
        "    </tr>\n",
        "    <tr>\n",
        "      <td><code>.size</code></td>\n",
        "      <td><code>Series, DataFrame</code></td>\n",
        "      <td>Total number of elements (rows × columns for DataFrame)</td>\n",
        "    </tr>\n",
        "    <tr>\n",
        "      <td><code>.ndim</code></td>\n",
        "      <td><code>Series, DataFrame</code></td>\n",
        "      <td>Number of array dimensions (1 for Series, 2 for DataFrame)</td>\n",
        "    </tr>\n",
        "    <tr>\n",
        "      <td><code>.index</code></td>\n",
        "      <td><code>Series, DataFrame</code></td>\n",
        "      <td>Row index object that stores row labels</td>\n",
        "    </tr>\n",
        "    <tr>\n",
        "      <td><code>.columns</code></td>\n",
        "      <td><code>DataFrame</code></td>\n",
        "      <td>Column index object containing column labels</td>\n",
        "    </tr>\n",
        "    <tr>\n",
        "      <td><code>.dtypes</code></td>\n",
        "      <td><code>Series, DataFrame</code></td>\n",
        "      <td>Data type(s) of the Series or each column in a DataFrame</td>\n",
        "    </tr>\n",
        "    <tr>\n",
        "      <td><code>.T</code></td>\n",
        "      <td><code>Series, DataFrame</code></td>\n",
        "      <td>Transposed view of the object (rows become columns and vice versa)</td>\n",
        "    </tr>\n",
        "    <tr>\n",
        "      <td><code>.values</code></td>\n",
        "      <td><code>Series, DataFrame</code></td>\n",
        "      <td>Underlying NumPy array representation (legacy, prefer <code>.to_numpy()</code>)</td>\n",
        "    </tr>\n",
        "    <tr>\n",
        "      <td><code>.axes</code></td>\n",
        "      <td><code>Series, DataFrame</code></td>\n",
        "      <td>List of axis objects: index for Series, [rows, cols] for DataFrame</td>\n",
        "    </tr>\n",
        "    <tr>\n",
        "      <td><code>.empty</code></td>\n",
        "      <td><code>Series, DataFrame</code></td>\n",
        "      <td>Boolean indicating whether the object has no elements</td>\n",
        "    </tr>\n",
        "    <tr>\n",
        "      <td><code>.name</code></td>\n",
        "      <td><code>Series</code></td>\n",
        "      <td>Optional name of the Series; often useful when part of a DataFrame or groupby result</td>\n",
        "    </tr>\n",
        "    <tr>\n",
        "      <td><code>.names</code></td>\n",
        "      <td><code>DataFrame</code></td>\n",
        "      <td>Names of index and column axes; can be set for labeled or hierarchical indexing</td>\n",
        "    </tr>\n",
        "  </tbody>\n",
        "</table>\n",
        "\n",
        "📝 **Docs**:\n",
        "\n",
        "- Attributes and underlying data: [pandas.pydata.org/docs/user_guide/basics.html#attributes-and-underlying-data](https://pandas.pydata.org/docs/user_guide/basics.html#attributes-and-underlying-data)\n"
      ]
    },
    {
      "cell_type": "markdown",
      "id": "43223c53",
      "metadata": {},
      "source": [
        "### <a id='toc3_1_1_'></a>[Shape and Size](#toc0_)\n"
      ]
    },
    {
      "cell_type": "code",
      "execution_count": null,
      "id": "c345b163",
      "metadata": {},
      "outputs": [],
      "source": [
        "# dataframe\n",
        "print(f\"df1.shape : {df1.shape}\")\n",
        "print(f\"df1.size  : {df1.size}\")\n",
        "print(f\"df1.ndim  : {df1.ndim}\")\n"
      ]
    },
    {
      "cell_type": "code",
      "execution_count": null,
      "id": "b2dcfc59",
      "metadata": {},
      "outputs": [],
      "source": [
        "# series\n",
        "print(f\"df1['Salary'].shape : {df1['Salary'].shape}\")\n",
        "print(f\"df1['Salary'].size  : {df1['Salary'].size}\")\n",
        "print(f\"df1['Salary'].ndim  : {df1['Salary'].ndim}\")\n"
      ]
    },
    {
      "cell_type": "markdown",
      "id": "6de06a45",
      "metadata": {},
      "source": [
        "### <a id='toc3_1_2_'></a>[Index and Labels](#toc0_)\n"
      ]
    },
    {
      "cell_type": "code",
      "execution_count": null,
      "id": "fdda8ca2",
      "metadata": {},
      "outputs": [],
      "source": [
        "# series\n",
        "index_1 = df1['Salary'].index.to_list()  # df1['Salary'].axes[0]\n",
        "\n",
        "# dataframe\n",
        "index_2 = df1.index.to_list()            # df1.axes[0]\n",
        "columns_2 = df1.columns.to_list()        # df1.axes[1]\n",
        "\n",
        "index_3 = df4.index.to_list()\n",
        "columns_3 = df4.columns.to_list()\n",
        "\n",
        "# log\n",
        "print(f\"index_1   : {index_1}\")\n",
        "print(f\"index_2   : {index_2}\")\n",
        "print(f\"index_3   : {index_3}\")\n",
        "print(f\"columns_2 : {columns_2}\")\n",
        "print(f\"columns_3 : {columns_3}\")"
      ]
    },
    {
      "cell_type": "markdown",
      "id": "9441fe76",
      "metadata": {},
      "source": [
        "### <a id='toc3_1_3_'></a>[Content Access / Representation](#toc0_)\n"
      ]
    },
    {
      "cell_type": "code",
      "execution_count": null,
      "id": "d21eba2c",
      "metadata": {},
      "outputs": [],
      "source": [
        "# transpose\n",
        "df1.T"
      ]
    },
    {
      "cell_type": "code",
      "execution_count": null,
      "id": "08b224ec",
      "metadata": {},
      "outputs": [],
      "source": [
        "# using <.values> is highly discouraged [legacy ⚠️] -> use <.to_numpy()> instead [modern ✅]\n",
        "values_1 = df1['Salary'].values\n",
        "values_2 = df1.values\n",
        "values_3 = df4.values\n",
        "\n",
        "print(f\"df1['Salary'].values:\\n{df1['Salary'].values}\\n\")\n",
        "print(f\"df1.values:\\n{df1.values}\\n\")\n",
        "print(f\"df4.values:\\n{df4.values}\")"
      ]
    },
    {
      "cell_type": "markdown",
      "id": "fafcb96b",
      "metadata": {},
      "source": [
        "### <a id='toc3_1_4_'></a>[Metadata / Utility](#toc0_)\n"
      ]
    },
    {
      "cell_type": "code",
      "execution_count": null,
      "id": "00460e84",
      "metadata": {},
      "outputs": [],
      "source": [
        "# assign names to index and columns\n",
        "s1.name = \"values\"\n",
        "df1.index.name = \"row_id\"\n",
        "df4.columns.name = \"attributes\"\n",
        "\n",
        "# log\n",
        "print(f\"s1:\\n{s1}\\n\")\n",
        "print(f\"df1:\\n{df1}\\n\")\n",
        "print(f\"df4:\\n{df4}\")"
      ]
    },
    {
      "cell_type": "code",
      "execution_count": null,
      "id": "497a2820",
      "metadata": {},
      "outputs": [],
      "source": [
        "# empty check\n",
        "print(f\"s1.empty             : {s1.empty}\")\n",
        "print(f\"df1.empty            : {df1.empty}\")\n",
        "print(f\"df2.empty            : {df2.empty}\")\n",
        "print(f\"pd.DataFrame().empty : {pd.DataFrame().empty}\")"
      ]
    },
    {
      "cell_type": "markdown",
      "id": "70de6743",
      "metadata": {},
      "source": [
        "## <a id='toc3_2_'></a>[Core Methods](#toc0_)\n",
        "\n",
        "- These methods provide common operations and inspection tools for a `DataFrame` or `Series`:\n",
        "\n",
        "<table style=\"margin: 0 auto;\">\n",
        "  <thead>\n",
        "    <tr>\n",
        "      <th>Method</th>\n",
        "      <th>Applies to</th>\n",
        "      <th>Description</th>\n",
        "    </tr>\n",
        "  </thead>\n",
        "  <tbody>\n",
        "    <tr>\n",
        "      <td><code>.head()</code></td>\n",
        "      <td><code>Series, DataFrame</code></td>\n",
        "      <td>Return the first n rows (default 5) for quick inspection</td>\n",
        "    </tr>\n",
        "    <tr>\n",
        "      <td><code>.tail()</code></td>\n",
        "      <td><code>Series, DataFrame</code></td>\n",
        "      <td>Return the last n rows (default 5) of the object</td>\n",
        "    </tr>\n",
        "    <tr>\n",
        "      <td><code>.sample()</code></td>\n",
        "      <td><code>Series, DataFrame</code></td>\n",
        "      <td>Return a random sample of items; size and random_state optional</td>\n",
        "    </tr>\n",
        "    <tr>\n",
        "      <td><code>.info()</code></td>\n",
        "      <td><code>DataFrame</code></td>\n",
        "      <td>Summary including columns, data types, non-null counts, memory</td>\n",
        "    </tr>\n",
        "    <tr>\n",
        "      <td><code>.describe()</code></td>\n",
        "      <td><code>Series, DataFrame</code></td>\n",
        "      <td>Generate descriptive statistics for numeric or object data</td>\n",
        "    </tr>\n",
        "    <tr>\n",
        "      <td><code>.value_counts()</code></td>\n",
        "      <td><code>Series</code></td>\n",
        "      <td>Return counts of unique values, sorted in descending order</td>\n",
        "    </tr>\n",
        "    <tr>\n",
        "      <td><code>.unique()</code></td>\n",
        "      <td><code>Series</code></td>\n",
        "      <td>Return an array of unique values in the Series</td>\n",
        "    </tr>\n",
        "    <tr>\n",
        "      <td><code>.nunique()</code></td>\n",
        "      <td><code>Series, DataFrame</code></td>\n",
        "      <td>Count the number of distinct elements per Series or column</td>\n",
        "    </tr>\n",
        "    <tr>\n",
        "      <td><code>.isna()</code></td>\n",
        "      <td><code>Series, DataFrame</code></td>\n",
        "      <td>Return a boolean mask indicating missing (NaN/NaT) values</td>\n",
        "    </tr>\n",
        "    <tr>\n",
        "      <td><code>.notna()</code></td>\n",
        "      <td><code>Series, DataFrame</code></td>\n",
        "      <td>Return a boolean mask indicating non-missing values</td>\n",
        "    </tr>\n",
        "    <tr>\n",
        "      <td><code>.copy()</code></td>\n",
        "      <td><code>Series, DataFrame</code></td>\n",
        "      <td>Create a deep copy to avoid modifying the original data</td>\n",
        "    </tr>\n",
        "    <tr>\n",
        "      <td><code>.astype()</code></td>\n",
        "      <td><code>Series, DataFrame</code></td>\n",
        "      <td>Cast the object to a specified data type</td>\n",
        "    </tr>\n",
        "    <tr>\n",
        "      <td><code>.sort_values()</code></td>\n",
        "      <td><code>Series, DataFrame</code></td>\n",
        "      <td>Sort by values along the specified axis</td>\n",
        "    </tr>\n",
        "    <tr>\n",
        "      <td><code>.sort_index()</code></td>\n",
        "      <td><code>Series, DataFrame</code></td>\n",
        "      <td>Sort by index labels (row or column)</td>\n",
        "    </tr>\n",
        "  </tbody>\n",
        "</table>\n"
      ]
    },
    {
      "cell_type": "markdown",
      "id": "187d63c5",
      "metadata": {},
      "source": [
        "### <a id='toc3_2_1_'></a>[Data Inspection / Quick View](#toc0_)\n"
      ]
    },
    {
      "cell_type": "code",
      "execution_count": null,
      "id": "4df61df4",
      "metadata": {},
      "outputs": [],
      "source": [
        "# head and tail\n",
        "print(f\"df1.head(2):\\n{df1.head(2)}\\n\")\n",
        "print(f\"df1.tail(3):\\n{df1.tail(3)}\")"
      ]
    },
    {
      "cell_type": "code",
      "execution_count": null,
      "id": "0270a975",
      "metadata": {},
      "outputs": [],
      "source": [
        "# random sampling\n",
        "print(f\"df1.sample(2):\\n{df1.sample(2)}\\n\")\n",
        "print(f\"df1.sample(2):\\n{df1.sample(2)}\")"
      ]
    },
    {
      "cell_type": "code",
      "execution_count": null,
      "id": "c55c98f6",
      "metadata": {},
      "outputs": [],
      "source": [
        "# info\n",
        "df1.info()\n"
      ]
    },
    {
      "cell_type": "code",
      "execution_count": null,
      "id": "b083aeb4",
      "metadata": {},
      "outputs": [],
      "source": [
        "# describe\n",
        "print(f\"df1.describe():\\n{df1.describe()}\")"
      ]
    },
    {
      "cell_type": "markdown",
      "id": "54659587",
      "metadata": {},
      "source": [
        "### <a id='toc3_2_2_'></a>[Unique / Value Analysis](#toc0_)\n"
      ]
    },
    {
      "cell_type": "code",
      "execution_count": null,
      "id": "74bc63dd",
      "metadata": {},
      "outputs": [],
      "source": [
        "# series\n",
        "s_unique = df1[\"Department\"].unique()\n",
        "s_nunique = df1[\"Department\"].nunique()\n",
        "s_value_counts = df1[\"Department\"].value_counts()\n",
        "\n",
        "# log\n",
        "print(f\"s_unique:\\n{s_unique}\\n\")\n",
        "print(f\"s_nunique:\\n{s_nunique}\\n\")\n",
        "print(f\"s_value_counts:\\n{s_value_counts}\")"
      ]
    },
    {
      "cell_type": "code",
      "execution_count": null,
      "id": "d78677bb",
      "metadata": {},
      "outputs": [],
      "source": [
        "# dataframe\n",
        "df_nunique = df1.nunique()\n",
        "\n",
        "# log\n",
        "print(f\"df_nunique:\\n{df_nunique}\")"
      ]
    },
    {
      "cell_type": "markdown",
      "id": "66c6a6b2",
      "metadata": {},
      "source": [
        "### <a id='toc3_2_3_'></a>[Missing Data](#toc0_)\n"
      ]
    },
    {
      "cell_type": "code",
      "execution_count": null,
      "id": "cb81b243",
      "metadata": {},
      "outputs": [],
      "source": [
        "df1.isna()  # df1.isnull()"
      ]
    },
    {
      "cell_type": "code",
      "execution_count": null,
      "id": "02ab1554",
      "metadata": {},
      "outputs": [],
      "source": [
        "df1.notna()  # df1.notnull() | ~df1.isna()"
      ]
    },
    {
      "cell_type": "markdown",
      "id": "c3bc83b2",
      "metadata": {},
      "source": [
        "### <a id='toc3_2_4_'></a>[Data Copy](#toc0_)\n"
      ]
    },
    {
      "cell_type": "code",
      "execution_count": null,
      "id": "4444ba0f",
      "metadata": {},
      "outputs": [],
      "source": [
        "# modifying copy does not affect original\n",
        "df5 = df1.copy()\n",
        "df5[\"Employee_ID\"] += 10\n",
        "\n",
        "# log\n",
        "print(f\"df1:\\n{df1}\\n\")\n",
        "print(f\"df5:\\n{df5}\")"
      ]
    },
    {
      "cell_type": "markdown",
      "id": "b90429aa",
      "metadata": {},
      "source": [
        "### <a id='toc3_2_5_'></a>[Sorting](#toc0_)\n"
      ]
    },
    {
      "cell_type": "code",
      "execution_count": null,
      "id": "3d9c04f5",
      "metadata": {},
      "outputs": [],
      "source": [
        "s2.sort_index()"
      ]
    },
    {
      "cell_type": "code",
      "execution_count": null,
      "id": "31934b00",
      "metadata": {},
      "outputs": [],
      "source": [
        "s2.sort_values(ascending=False)"
      ]
    },
    {
      "cell_type": "code",
      "execution_count": null,
      "id": "6549cd60",
      "metadata": {},
      "outputs": [],
      "source": [
        "df1.sort_values(by=[\"Experience_Years\", \"Salary\"])"
      ]
    },
    {
      "cell_type": "markdown",
      "id": "1640c557",
      "metadata": {},
      "source": [
        "# <a id='toc4_'></a>[Dtypes and Type Inference](#toc0_)\n"
      ]
    },
    {
      "cell_type": "markdown",
      "id": "48217501",
      "metadata": {},
      "source": [
        "## <a id='toc4_1_'></a>[Data Types](#toc0_)\n",
        "\n",
        "- Every column (`Series`) has an associated **dtype** (data type) that tells Pandas how to **store** and **interpret** the values.\n",
        "\n",
        "\n",
        "📈 **Common dtypes**\n",
        "\n",
        "- **Numeric types:** `int64`, `float64`\n",
        "- **Text type:** `object` (usually strings)\n",
        "- **Boolean:** `bool`\n",
        "- **Datetime and Timedelta:** `datetime64`, `timedelta64`\n",
        "- **Categorical:** `category` (for repeated values with limited categories)\n",
        "\n",
        "\n",
        "‼️**Knowing the dtype is important!**\n",
        "\n",
        "- **Memory usage:** some types are more efficient than others.\n",
        "- **Operations:** mathematical operations can only apply to numeric dtypes.\n",
        "- **Interoperability:** when exporting to other tools or databases, **dtype compatibility** matters.\n",
        "\n",
        "📝 **Docs**:\n",
        "\n",
        "- dtypes: [pandas.pydata.org/docs/user_guide/basics.html#dtypes](https://pandas.pydata.org/docs/user_guide/basics.html#dtypes)\n"
      ]
    },
    {
      "cell_type": "code",
      "execution_count": null,
      "id": "437698ce",
      "metadata": {},
      "outputs": [],
      "source": [
        "df = pd.DataFrame({\n",
        "    \"integers\": [1, 2, 3, 4],\n",
        "    \"floats\": [1.5, 2.5, 3.5, 4.5],\n",
        "    \"strings\": [\"apple\", \"banana\", \"cherry\", \"date\"],\n",
        "    \"booleans\": [True, False, True, False],\n",
        "    \"datetimes\": pd.date_range(\"2023-01-01\", periods=4),\n",
        "    \"categories\": pd.Series([\"A\", \"B\", \"A\", \"C\"], dtype=\"category\")\n",
        "})\n",
        "\n",
        "# log\n",
        "print(f\"df:\\n{df}\\n\")\n",
        "print(f\"df.dtypes:\\n{df.dtypes}\")"
      ]
    },
    {
      "cell_type": "markdown",
      "id": "4982ec45",
      "metadata": {},
      "source": [
        "## <a id='toc4_2_'></a>[Type Inference in Pandas](#toc0_)\n",
        "\n",
        "- When you create a `Series` or `DataFrame`, Pandas **automatically** infers the **dtype** based on the **input data**.\n",
        "- This inference makes it easy to start working with data, but sometimes it **may not match** your expectations.\n",
        "\n",
        "✍️ **Key Points**\n",
        "\n",
        "- Mixed types often default to `object`, which is **less** efficient.\n",
        "- **Dates** and **times** may be read as **plain strings** unless **explicitly parsed**.\n",
        "- You can **override** automatic inference by casting to a specific dtype.\n",
        "\n",
        "⚒️ **Working with Dtypes**\n",
        "\n",
        "- Sometimes you need to change or control dtypes:\n",
        "  - **Inspection:** `.dtypes` shows the dtype of each column.\n",
        "  - **Conversion:** `.astype()` lets you convert a column to a new dtype.\n",
        "  - **Optimization:** converting columns to `category` or **smaller integer types** can save memory.\n",
        "\n",
        "📝 **Docs**:\n",
        "\n",
        "- `pandas.Series.astype`: [pandas.pydata.org/docs/reference/api/pandas.Series.astype.html](https://pandas.pydata.org/docs/reference/api/pandas.Series.astype.html)\n",
        "- `pandas.DataFrame.astype`: [pandas.pydata.org/docs/reference/api/pandas.DataFrame.astype.html](https://pandas.pydata.org/docs/reference/api/pandas.DataFrame.astype.html)\n"
      ]
    },
    {
      "cell_type": "code",
      "execution_count": null,
      "id": "205e9e33",
      "metadata": {},
      "outputs": [],
      "source": [
        "# pandas infers dtypes automatically [implicit]\n",
        "s4 = pd.Series([10, 20, 30])                  # integers -> int64   ✅\n",
        "s5 = pd.Series([1.1, None, 3.3])              # floats   -> float64 ✅\n",
        "s6 = pd.Series([\"a\", \"b\", \"c\"])               # strings  -> object  ✅\n",
        "s7 = pd.Series([\"2023-01-01\", \"2023-02-01\"])  # strings  -> object  ❌\n",
        "\n",
        "# log\n",
        "print(f\"s4.dtype: {s4.dtype}\")\n",
        "print(f\"s5.dtype: {s5.dtype}\")\n",
        "print(f\"s6.dtype: {s6.dtype}\")\n",
        "print(f\"s7.dtype: {s7.dtype}\")"
      ]
    },
    {
      "cell_type": "code",
      "execution_count": null,
      "id": "43cebf7c",
      "metadata": {},
      "outputs": [],
      "source": [
        "# casting with astype()\n",
        "s7_casted = s7.astype('datetime64[ns]')\n",
        "\n",
        "# log\n",
        "print(f\"s7_casted.dtype: {s7_casted.dtype}\")"
      ]
    },
    {
      "cell_type": "code",
      "execution_count": null,
      "id": "e6c6b3f4",
      "metadata": {},
      "outputs": [],
      "source": [
        "# explicit conversion (override inference)\n",
        "s7_converted = pd.to_datetime(s7)\n",
        "\n",
        "# log\n",
        "print(f\"s7_converted.dtype: {s7_converted.dtype}\")"
      ]
    },
    {
      "cell_type": "code",
      "execution_count": null,
      "id": "a2d084b7",
      "metadata": {},
      "outputs": [],
      "source": [
        "# mixed types default to object\n",
        "s_mixed = pd.Series([1, \"two\", 3.0])\n",
        "\n",
        "# log\n",
        "print(f\"s_mixed.dtype: {s_mixed.dtype}\")"
      ]
    },
    {
      "cell_type": "code",
      "execution_count": null,
      "id": "1f6fc0aa",
      "metadata": {},
      "outputs": [],
      "source": [
        "# optimization: use category for repeated strings\n",
        "s_object = pd.Series([\"dog\", \"cat\", \"dog\", \"dog\", \"cat\"])\n",
        "s_categorical = pd.Series([\"dog\", \"cat\", \"dog\", \"dog\", \"cat\"], dtype=\"category\")\n",
        "\n",
        "# check size [bytes]\n",
        "s_object_size = s_object.memory_usage(deep=True)\n",
        "s_categorical_size = s_categorical.memory_usage(deep=True)\n",
        "\n",
        "# log\n",
        "print(f\"s_object.dtype      : {s_object.dtype}\")\n",
        "print(f\"s_object_size       : {s_object_size} bytes\")\n",
        "print(f\"s_categorical.dtype : {s_categorical.dtype}\")\n",
        "print(f\"s_categorical_size  : {s_categorical_size} bytes\")"
      ]
    }
  ],
  "metadata": {
    "author_email": "AmirhosseinHeydari78@gmail.com",
    "author_github": "https://github.com/mr-pylin",
    "author_name": "Amirhossein Heydari",
    "kernelspec": {
      "display_name": "pandas-workshop (3.13.7)",
      "language": "python",
      "name": "python3"
    },
    "language_info": {
      "codemirror_mode": {
        "name": "ipython",
        "version": 3
      },
      "file_extension": ".py",
      "mimetype": "text/x-python",
      "name": "python",
      "nbconvert_exporter": "python",
      "pygments_lexer": "ipython3",
      "version": "3.13.7"
    },
    "origin_repo": "https://github.com/mr-pylin/pandas-workshop"
  },
  "nbformat": 4,
  "nbformat_minor": 5
}
