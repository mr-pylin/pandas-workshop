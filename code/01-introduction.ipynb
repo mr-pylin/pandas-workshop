{
  "cells": [
    {
      "cell_type": "markdown",
      "id": "0f6a372a",
      "metadata": {},
      "source": [
        "<div style=\"display: flex; justify-content: space-between; align-items: center;\">\n",
        "    <div style=\"text-align: left; flex: 4\">\n",
        "        <strong>Author:</strong> Amirhossein Heydari — \n",
        "        📧 <a href=\"mailto:amirhosseinheydari78@gmail.com\">amirhosseinheydari78@gmail.com</a> — \n",
        "        🐙 <a href=\"https://github.com/mr-pylin/pandas-workshop\" target=\"_blank\" rel=\"noopener\">github.com/mr-pylin</a>\n",
        "    </div>\n",
        "    <div style=\"text-align: right; flex: 1;\">\n",
        "        <a href=\"https://pandas.pydata.org/\" target=\"_blank\" rel=\"noopener noreferrer\">\n",
        "            <img src=\"../assets/images/pandas/logo/pandas_white.svg\" \n",
        "                 alt=\"Pandas Logo\"\n",
        "                 style=\"max-height: 48px; width: auto; background-color: #1f1f1f; border-radius: 8px;\">\n",
        "        </a>\n",
        "    </div>\n",
        "</div>\n",
        "<hr>\n"
      ]
    },
    {
      "cell_type": "markdown",
      "id": "bc9cad16",
      "metadata": {},
      "source": [
        "**Table of contents**<a id='toc0_'></a>    \n",
        "- [Dependencies](#toc1_)    \n",
        "- [What is Pandas?](#toc2_)    \n",
        "  - [The Role of Pandas](#toc2_1_)    \n",
        "  - [Pandas vs. Native Python Structures](#toc2_2_)    \n",
        "  - [Pandas in the Ecosystem](#toc2_3_)    \n",
        "  - [First Steps with Data](#toc2_4_)    \n",
        "    - [Create a Toy Dataset Manually](#toc2_4_1_)    \n",
        "    - [Read a Small CSV into a DataFrame](#toc2_4_2_)    \n",
        "    - [Quick Exploratory Commands](#toc2_4_3_)    \n",
        "- [Motivation](#toc3_)    \n",
        "  - [Example 1](#toc3_1_)    \n",
        "    - [Using Raw Python](#toc3_1_1_)    \n",
        "    - [Using Pandas](#toc3_1_2_)    \n",
        "  - [Example 2](#toc3_2_)    \n",
        "    - [Using Raw Python](#toc3_2_1_)    \n",
        "    - [Using Pandas](#toc3_2_2_)    \n",
        "\n",
        "<!-- vscode-jupyter-toc-config\n",
        "\tnumbering=false\n",
        "\tanchor=true\n",
        "\tflat=false\n",
        "\tminLevel=1\n",
        "\tmaxLevel=6\n",
        "\t/vscode-jupyter-toc-config -->\n",
        "<!-- THIS CELL WILL BE REPLACED ON TOC UPDATE. DO NOT WRITE YOUR TEXT IN THIS CELL -->"
      ]
    },
    {
      "cell_type": "markdown",
      "id": "9f4ee919",
      "metadata": {},
      "source": [
        "# <a id='toc1_'></a>[Dependencies](#toc0_)\n"
      ]
    },
    {
      "cell_type": "code",
      "execution_count": null,
      "id": "32ec40e5",
      "metadata": {},
      "outputs": [],
      "source": [
        "import csv\n",
        "from collections import defaultdict\n",
        "from urllib.request import urlopen\n",
        "\n",
        "import pandas as pd"
      ]
    },
    {
      "cell_type": "code",
      "execution_count": null,
      "id": "82f984b6",
      "metadata": {},
      "outputs": [],
      "source": [
        "# disable wrapping entirely\n",
        "pd.set_option('display.expand_frame_repr', False)"
      ]
    },
    {
      "cell_type": "code",
      "execution_count": null,
      "id": "d09142fa",
      "metadata": {},
      "outputs": [],
      "source": [
        "MOVIES_PATH = r\"https://raw.githubusercontent.com/mr-pylin/datasets/refs/heads/main/data/tabular-data/movies/csv/dataset.csv\"\n",
        "SALES_PATH = r\"https://raw.githubusercontent.com/mr-pylin/datasets/refs/heads/main/data/tabular-data/sales/dataset.csv\""
      ]
    },
    {
      "cell_type": "markdown",
      "id": "48559885",
      "metadata": {},
      "source": [
        "# <a id='toc2_'></a>[What is Pandas?](#toc0_)\n",
        "\n",
        "- Pandas is a Python library for data manipulation and analysis.\n",
        "\n",
        "📝 **Official Documentation / Tutorials**:\n",
        "\n",
        "- Pandas official docs: [pandas.pydata.org/docs/](https://pandas.pydata.org/docs/)\n",
        "- Getting Started Tutorial: [pandas.pydata.org/docs/getting_started/index.html](https://pandas.pydata.org/docs/getting_started/index.html)\n",
        "- 10 Minutes to Pandas: [pandas.pydata.org/docs/user_guide/10min.html](https://pandas.pydata.org/docs/user_guide/10min.html)\n",
        "\n",
        "📺 **Useful Youtube Playlists**:\n",
        "\n",
        "- Corey Schafer **[youtube]**: [youtube.com/playlist?list=PL-osiE80TeTt2d9bfVyTiXJA-UTHn6WwU](https://www.youtube.com/playlist?list=PL-osiE80TeTt2d9bfVyTiXJA-UTHn6WwU)\n",
        "- Data School **[youtube]**: [youtube.com/playlist?list=PL5-da3qGB5ICCsgW1MxlZ0Hq8LL5U3u9y](https://www.youtube.com/playlist?list=PL5-da3qGB5ICCsgW1MxlZ0Hq8LL5U3u9y)\n"
      ]
    },
    {
      "cell_type": "markdown",
      "id": "b00a06c6",
      "metadata": {},
      "source": [
        "## <a id='toc2_1_'></a>[The Role of Pandas](#toc0_)\n",
        "\n",
        "  - **Pandas vs. raw Python**: easier handling of structured/tabular data\n",
        "  - **Pandas vs. Excel/CSV**: programmatic, reproducible, automatable\n",
        "  - **Pandas in data science pipelines**: preprocessing $\\rightarrow$ analysis $\\rightarrow$ visualization\n"
      ]
    },
    {
      "cell_type": "markdown",
      "id": "e11e1bac",
      "metadata": {},
      "source": [
        "## <a id='toc2_2_'></a>[Pandas vs. Native Python Structures](#toc0_)\n",
        "\n",
        "<table>\n",
        "  <thead>\n",
        "    <tr>\n",
        "      <th>Feature</th>\n",
        "      <th>Native Python (list/dict)</th>\n",
        "      <th>Pandas (Series/DataFrame)</th>\n",
        "    </tr>\n",
        "  </thead>\n",
        "  <tbody>\n",
        "    <tr>\n",
        "      <td>Labeled data</td>\n",
        "      <td>No labels (need manual tracking)</td>\n",
        "      <td>Indexes and column names</td>\n",
        "    </tr>\n",
        "    <tr>\n",
        "      <td>Missing data</td>\n",
        "      <td>Manual checks</td>\n",
        "      <td>NaN handling with built-in methods</td>\n",
        "    </tr>\n",
        "    <tr>\n",
        "      <td>Vectorized operations</td>\n",
        "      <td>Loops required</td>\n",
        "      <td>Arithmetic applied element-wise</td>\n",
        "    </tr>\n",
        "    <tr>\n",
        "      <td>Aggregations</td>\n",
        "      <td>Custom loops or comprehensions</td>\n",
        "      <td><code>sum()</code>, <code>mean()</code>, <code>groupby()</code></td>\n",
        "    </tr>\n",
        "    <tr>\n",
        "      <td>Filtering &amp; selection</td>\n",
        "      <td>Loops and conditionals</td>\n",
        "      <td>Boolean indexing and slicing</td>\n",
        "    </tr>\n",
        "    <tr>\n",
        "      <td>File I/O</td>\n",
        "      <td>Manual parsing</td>\n",
        "      <td><code>.read_csv()</code>, <code>.to_csv()</code>, <code>.read_sql()</code></td>\n",
        "    </tr>\n",
        "  </tbody>\n",
        "</table>\n"
      ]
    },
    {
      "cell_type": "markdown",
      "id": "37db0e7e",
      "metadata": {},
      "source": [
        "## <a id='toc2_3_'></a>[Pandas in the Ecosystem](#toc0_)\n",
        "\n",
        "- Pandas builds on NumPy: provides labeled axes and higher-level operations on arrays.\n",
        "- Integrates seamlessly with Matplotlib / Seaborn for plotting.\n",
        "- Works naturally with Scikit-learn for ML pipelines (features in DataFrames).\n",
        "- Often used in data pipelines: ingestion → cleaning → transformation → visualization → modeling → export.\n",
        "- Supports multiple file formats (CSV, Excel, Parquet, SQL, JSON) for real-world workflows.\n"
      ]
    },
    {
      "cell_type": "markdown",
      "id": "73567373",
      "metadata": {},
      "source": [
        "## <a id='toc2_4_'></a>[First Steps with Data](#toc0_)\n"
      ]
    },
    {
      "cell_type": "markdown",
      "id": "b27086f4",
      "metadata": {},
      "source": [
        "### <a id='toc2_4_1_'></a>[Create a Toy Dataset Manually](#toc0_)\n"
      ]
    },
    {
      "cell_type": "code",
      "execution_count": null,
      "id": "849eccd1",
      "metadata": {},
      "outputs": [],
      "source": [
        "# python dict\n",
        "data = {\n",
        "    \"Name\": [\"Alice\", \"Bob\", \"Charlie\"],\n",
        "    \"Age\": [25, 30, 35],\n",
        "    \"City\": [\"New York\", \"Los Angeles\", \"Chicago\"],\n",
        "}\n",
        "\n",
        "# log\n",
        "print(data)"
      ]
    },
    {
      "cell_type": "code",
      "execution_count": null,
      "id": "154a8c14",
      "metadata": {},
      "outputs": [],
      "source": [
        "# create a small DataFrame\n",
        "df = pd.DataFrame(data)\n",
        "\n",
        "# log\n",
        "print(df)"
      ]
    },
    {
      "cell_type": "markdown",
      "id": "0ecf884d",
      "metadata": {},
      "source": [
        "### <a id='toc2_4_2_'></a>[Read a Small CSV into a DataFrame](#toc0_)\n"
      ]
    },
    {
      "cell_type": "code",
      "execution_count": null,
      "id": "d5a70ed1",
      "metadata": {},
      "outputs": [],
      "source": [
        "# read CSV\n",
        "df_movies = pd.read_csv(MOVIES_PATH)\n",
        "\n",
        "# log\n",
        "print(df_movies)"
      ]
    },
    {
      "cell_type": "markdown",
      "id": "79936921",
      "metadata": {},
      "source": [
        "### <a id='toc2_4_3_'></a>[Quick Exploratory Commands](#toc0_)\n"
      ]
    },
    {
      "cell_type": "code",
      "execution_count": null,
      "id": "1ae816a3",
      "metadata": {},
      "outputs": [],
      "source": [
        "shape = df_movies.shape      # number of rows and columns\n",
        "columns = df_movies.columns  # columns\n",
        "index = df_movies.index      # index\n",
        "\n",
        "# log\n",
        "print(f\"shape   : {shape}\")\n",
        "print(f\"index   : {index}\")\n",
        "print(f\"columns : {list(columns)}\")\n"
      ]
    },
    {
      "cell_type": "code",
      "execution_count": null,
      "id": "67382d59",
      "metadata": {},
      "outputs": [],
      "source": [
        "# Summary statistics for numeric columns\n",
        "describe = df_movies.describe()\n",
        "\n",
        "# log\n",
        "print(f\"describe: {describe}\")"
      ]
    },
    {
      "cell_type": "code",
      "execution_count": null,
      "id": "4dc12481",
      "metadata": {},
      "outputs": [],
      "source": [
        "# info about data types and missing values\n",
        "info = df_movies.info()\n",
        "\n",
        "# log\n",
        "print(f\"info: {info}\")"
      ]
    },
    {
      "cell_type": "markdown",
      "id": "4243a5da",
      "metadata": {},
      "source": [
        "# <a id='toc3_'></a>[Motivation](#toc0_)\n"
      ]
    },
    {
      "cell_type": "markdown",
      "id": "d1e41b8e",
      "metadata": {},
      "source": [
        "## <a id='toc3_1_'></a>[Example 1](#toc0_)\n",
        "\n",
        "- Find top 5 **product category** with highest **total revenue**.\n",
        "- About `sales.csv`: [github.com/mr-pylin/datasets/raw/refs/heads/main/data/tabular-data/sales/dataset.csv](https://github.com/mr-pylin/datasets/raw/refs/heads/main/data/tabular-data/sales/dataset.csv)\n"
      ]
    },
    {
      "cell_type": "markdown",
      "id": "fef369b8",
      "metadata": {},
      "source": [
        "### <a id='toc3_1_1_'></a>[Using Raw Python](#toc0_)\n"
      ]
    },
    {
      "cell_type": "code",
      "execution_count": null,
      "id": "0cbc34b2",
      "metadata": {},
      "outputs": [],
      "source": [
        "category_revenue = defaultdict(float)\n",
        "\n",
        "with urlopen(SALES_PATH) as response:\n",
        "    data = response.read().decode('latin-1')\n",
        "    lines = data.splitlines()\n",
        "    reader = csv.DictReader(lines)\n",
        "    for row in reader:\n",
        "        # calculate total revenue for each row\n",
        "        total = float(row[\"QUANTITYORDERED\"]) * float(row[\"PRICEEACH\"])\n",
        "        # add to the corresponding category\n",
        "        category_revenue[row[\"PRODUCTLINE\"]] += total\n",
        "\n",
        "# sort categories by total revenue in descending order\n",
        "sorted_categories = sorted(category_revenue.items(), key=lambda x: x[1], reverse=True)\n",
        "\n",
        "# log\n",
        "for category, revenue in sorted_categories[:5]:\n",
        "    print(f\"{category}: ${revenue:,.2f}\")"
      ]
    },
    {
      "cell_type": "markdown",
      "id": "afef0d88",
      "metadata": {},
      "source": [
        "### <a id='toc3_1_2_'></a>[Using Pandas](#toc0_)\n"
      ]
    },
    {
      "cell_type": "code",
      "execution_count": null,
      "id": "c4076769",
      "metadata": {},
      "outputs": [],
      "source": [
        "df = pd.read_csv(SALES_PATH, encoding='latin-1')\n",
        "\n",
        "df[\"Total Revenue\"] = df[\"QUANTITYORDERED\"] * df[\"PRICEEACH\"]\n",
        "category_revenue = df.groupby(\"PRODUCTLINE\")[\"Total Revenue\"].sum().sort_values(ascending=False)\n",
        "\n",
        "# log\n",
        "print(category_revenue.head(5))"
      ]
    },
    {
      "cell_type": "markdown",
      "id": "34c3e78d",
      "metadata": {},
      "source": [
        "## <a id='toc3_2_'></a>[Example 2](#toc0_)\n",
        "\n",
        "- Find the top 3 **highest-rated Drama** movies released between **2007** and **2011**.\n",
        "- About `movies.csv`: [github.com/mr-pylin/datasets/raw/refs/heads/main/data/tabular-data/movies/dataset.csv](https://github.com/mr-pylin/datasets/raw/refs/heads/main/data/tabular-data/movies/dataset.csv)\n"
      ]
    },
    {
      "cell_type": "markdown",
      "id": "94177e47",
      "metadata": {},
      "source": [
        "### <a id='toc3_2_1_'></a>[Using Raw Python](#toc0_)\n"
      ]
    },
    {
      "cell_type": "code",
      "execution_count": null,
      "id": "01076540",
      "metadata": {},
      "outputs": [],
      "source": [
        "movies = []\n",
        "\n",
        "with urlopen(MOVIES_PATH) as response:\n",
        "    data = response.read().decode('utf-8')\n",
        "    lines = data.splitlines()\n",
        "    reader = csv.DictReader(lines)\n",
        "    for row in reader:\n",
        "        if row[\"Genre\"] == \"Drama\" and 2007 <= int(row[\"Year\"]) <= 2011:\n",
        "            movies.append({\n",
        "                \"Film\": row[\"Film\"], \n",
        "                \"Year\": int(row[\"Year\"]), \n",
        "                \"Audience score %\": float(row[\"Audience score %\"])\n",
        "            })\n",
        "\n",
        "# sort selected films by audience score in descending order\n",
        "movies_sorted = sorted(movies, key=lambda x: x[\"Audience score %\"], reverse=True)\n",
        "top_3 = movies_sorted[:3]\n",
        "\n",
        "# log\n",
        "for movie in top_3:\n",
        "    print(movie)"
      ]
    },
    {
      "cell_type": "markdown",
      "id": "d0616cf3",
      "metadata": {},
      "source": [
        "### <a id='toc3_2_2_'></a>[Using Pandas](#toc0_)\n"
      ]
    },
    {
      "cell_type": "code",
      "execution_count": null,
      "id": "f0d4a343",
      "metadata": {},
      "outputs": [],
      "source": [
        "df = pd.read_csv(MOVIES_PATH)\n",
        "\n",
        "top_movies = (\n",
        "    df[(df[\"Genre\"] == \"Drama\") & (df[\"Year\"].between(2007, 2011))]\n",
        "    .sort_values(\n",
        "        \"Audience score %\",\n",
        "        ascending=False,\n",
        "    )\n",
        "    .head(3)\n",
        ")\n",
        "\n",
        "# log\n",
        "print(top_movies[[\"Film\", \"Year\", \"Genre\", \"Audience score %\"]])"
      ]
    }
  ],
  "metadata": {
    "author_email": "AmirhosseinHeydari78@gmail.com",
    "author_github": "https://github.com/mr-pylin",
    "author_name": "Amirhossein Heydari",
    "kernelspec": {
      "display_name": "pandas-workshop (3.13.7)",
      "language": "python",
      "name": "python3"
    },
    "language_info": {
      "codemirror_mode": {
        "name": "ipython",
        "version": 3
      },
      "file_extension": ".py",
      "mimetype": "text/x-python",
      "name": "python",
      "nbconvert_exporter": "python",
      "pygments_lexer": "ipython3",
      "version": "3.13.7"
    },
    "origin_repo": "https://github.com/mr-pylin/pandas-workshop"
  },
  "nbformat": 4,
  "nbformat_minor": 5
}
